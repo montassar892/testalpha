{
  "cells": [
    {
      "cell_type": "code",
      "execution_count": null,
      "metadata": {
        "colab": {
          "base_uri": "https://localhost:8080/"
        },
        "id": "29cEuCGTXQQP",
        "outputId": "81cd9afc-e806-4010-c79d-17d1c584e081"
      },
      "outputs": [
        {
          "output_type": "stream",
          "name": "stdout",
          "text": [
            "Mounted at /content/drive\n"
          ]
        }
      ],
      "source": [
        "from google.colab import drive\n",
        "drive.mount('/content/drive')"
      ]
    },
    {
      "cell_type": "markdown",
      "metadata": {
        "id": "aVGURsPFW5rY"
      },
      "source": [
        "##importation"
      ]
    },
    {
      "cell_type": "code",
      "execution_count": null,
      "metadata": {
        "colab": {
          "base_uri": "https://localhost:8080/"
        },
        "id": "O4wScD68Wwxh",
        "outputId": "c61b3501-0f9a-40fc-b82d-44f0779ec616"
      },
      "outputs": [
        {
          "output_type": "stream",
          "name": "stdout",
          "text": [
            "Collecting pdf2image\n",
            "  Downloading pdf2image-1.16.0-py3-none-any.whl (10 kB)\n",
            "Requirement already satisfied: pillow in /usr/local/lib/python3.7/dist-packages (from pdf2image) (7.1.2)\n",
            "Installing collected packages: pdf2image\n",
            "Successfully installed pdf2image-1.16.0\n",
            "Collecting easyocr\n",
            "  Downloading easyocr-1.4.2-py3-none-any.whl (70.8 MB)\n",
            "\u001b[K     |████████████████████████████████| 70.8 MB 13 kB/s \n",
            "\u001b[?25hRequirement already satisfied: scipy in /usr/local/lib/python3.7/dist-packages (from easyocr) (1.4.1)\n",
            "Requirement already satisfied: torch in /usr/local/lib/python3.7/dist-packages (from easyocr) (1.11.0+cu113)\n",
            "Collecting python-bidi\n",
            "  Downloading python_bidi-0.4.2-py2.py3-none-any.whl (30 kB)\n",
            "Requirement already satisfied: PyYAML in /usr/local/lib/python3.7/dist-packages (from easyocr) (3.13)\n",
            "Requirement already satisfied: torchvision>=0.5 in /usr/local/lib/python3.7/dist-packages (from easyocr) (0.12.0+cu113)\n",
            "Requirement already satisfied: numpy in /usr/local/lib/python3.7/dist-packages (from easyocr) (1.21.6)\n",
            "Collecting opencv-python-headless<=4.5.4.60\n",
            "  Downloading opencv_python_headless-4.5.4.60-cp37-cp37m-manylinux_2_17_x86_64.manylinux2014_x86_64.whl (47.6 MB)\n",
            "\u001b[K     |████████████████████████████████| 47.6 MB 1.5 MB/s \n",
            "\u001b[?25hRequirement already satisfied: scikit-image in /usr/local/lib/python3.7/dist-packages (from easyocr) (0.18.3)\n",
            "Requirement already satisfied: Pillow in /usr/local/lib/python3.7/dist-packages (from easyocr) (7.1.2)\n",
            "Requirement already satisfied: requests in /usr/local/lib/python3.7/dist-packages (from torchvision>=0.5->easyocr) (2.23.0)\n",
            "Requirement already satisfied: typing-extensions in /usr/local/lib/python3.7/dist-packages (from torchvision>=0.5->easyocr) (4.2.0)\n",
            "Requirement already satisfied: six in /usr/local/lib/python3.7/dist-packages (from python-bidi->easyocr) (1.15.0)\n",
            "Requirement already satisfied: idna<3,>=2.5 in /usr/local/lib/python3.7/dist-packages (from requests->torchvision>=0.5->easyocr) (2.10)\n",
            "Requirement already satisfied: urllib3!=1.25.0,!=1.25.1,<1.26,>=1.21.1 in /usr/local/lib/python3.7/dist-packages (from requests->torchvision>=0.5->easyocr) (1.24.3)\n",
            "Requirement already satisfied: certifi>=2017.4.17 in /usr/local/lib/python3.7/dist-packages (from requests->torchvision>=0.5->easyocr) (2021.10.8)\n",
            "Requirement already satisfied: chardet<4,>=3.0.2 in /usr/local/lib/python3.7/dist-packages (from requests->torchvision>=0.5->easyocr) (3.0.4)\n",
            "Requirement already satisfied: networkx>=2.0 in /usr/local/lib/python3.7/dist-packages (from scikit-image->easyocr) (2.6.3)\n",
            "Requirement already satisfied: imageio>=2.3.0 in /usr/local/lib/python3.7/dist-packages (from scikit-image->easyocr) (2.4.1)\n",
            "Requirement already satisfied: PyWavelets>=1.1.1 in /usr/local/lib/python3.7/dist-packages (from scikit-image->easyocr) (1.3.0)\n",
            "Requirement already satisfied: tifffile>=2019.7.26 in /usr/local/lib/python3.7/dist-packages (from scikit-image->easyocr) (2021.11.2)\n",
            "Requirement already satisfied: matplotlib!=3.0.0,>=2.0.0 in /usr/local/lib/python3.7/dist-packages (from scikit-image->easyocr) (3.2.2)\n",
            "Requirement already satisfied: python-dateutil>=2.1 in /usr/local/lib/python3.7/dist-packages (from matplotlib!=3.0.0,>=2.0.0->scikit-image->easyocr) (2.8.2)\n",
            "Requirement already satisfied: kiwisolver>=1.0.1 in /usr/local/lib/python3.7/dist-packages (from matplotlib!=3.0.0,>=2.0.0->scikit-image->easyocr) (1.4.2)\n",
            "Requirement already satisfied: pyparsing!=2.0.4,!=2.1.2,!=2.1.6,>=2.0.1 in /usr/local/lib/python3.7/dist-packages (from matplotlib!=3.0.0,>=2.0.0->scikit-image->easyocr) (3.0.9)\n",
            "Requirement already satisfied: cycler>=0.10 in /usr/local/lib/python3.7/dist-packages (from matplotlib!=3.0.0,>=2.0.0->scikit-image->easyocr) (0.11.0)\n",
            "Installing collected packages: python-bidi, opencv-python-headless, easyocr\n",
            "Successfully installed easyocr-1.4.2 opencv-python-headless-4.5.4.60 python-bidi-0.4.2\n",
            "Requirement already satisfied: torch in /usr/local/lib/python3.7/dist-packages (1.11.0+cu113)\n",
            "Requirement already satisfied: torchvision in /usr/local/lib/python3.7/dist-packages (0.12.0+cu113)\n",
            "Requirement already satisfied: torchaudio in /usr/local/lib/python3.7/dist-packages (0.11.0+cu113)\n",
            "Requirement already satisfied: typing-extensions in /usr/local/lib/python3.7/dist-packages (from torch) (4.2.0)\n",
            "Requirement already satisfied: pillow!=8.3.*,>=5.3.0 in /usr/local/lib/python3.7/dist-packages (from torchvision) (7.1.2)\n",
            "Requirement already satisfied: requests in /usr/local/lib/python3.7/dist-packages (from torchvision) (2.23.0)\n",
            "Requirement already satisfied: numpy in /usr/local/lib/python3.7/dist-packages (from torchvision) (1.21.6)\n",
            "Requirement already satisfied: chardet<4,>=3.0.2 in /usr/local/lib/python3.7/dist-packages (from requests->torchvision) (3.0.4)\n",
            "Requirement already satisfied: urllib3!=1.25.0,!=1.25.1,<1.26,>=1.21.1 in /usr/local/lib/python3.7/dist-packages (from requests->torchvision) (1.24.3)\n",
            "Requirement already satisfied: certifi>=2017.4.17 in /usr/local/lib/python3.7/dist-packages (from requests->torchvision) (2021.10.8)\n",
            "Requirement already satisfied: idna<3,>=2.5 in /usr/local/lib/python3.7/dist-packages (from requests->torchvision) (2.10)\n",
            "Found existing installation: opencv-python-headless 4.5.4.60\n",
            "Uninstalling opencv-python-headless-4.5.4.60:\n",
            "  Would remove:\n",
            "    /usr/local/lib/python3.7/dist-packages/cv2/*\n",
            "    /usr/local/lib/python3.7/dist-packages/opencv_python_headless-4.5.4.60.dist-info/*\n",
            "    /usr/local/lib/python3.7/dist-packages/opencv_python_headless.libs/libavcodec-64ac49e1.so.58.91.100\n",
            "    /usr/local/lib/python3.7/dist-packages/opencv_python_headless.libs/libavformat-4b79e479.so.58.45.100\n",
            "    /usr/local/lib/python3.7/dist-packages/opencv_python_headless.libs/libavutil-805734e8.so.56.51.100\n",
            "    /usr/local/lib/python3.7/dist-packages/opencv_python_headless.libs/libbz2-a273e504.so.1.0.6\n",
            "    /usr/local/lib/python3.7/dist-packages/opencv_python_headless.libs/libcrypto-018b8c17.so.1.1\n",
            "    /usr/local/lib/python3.7/dist-packages/opencv_python_headless.libs/libgfortran-91cc3cb1.so.3.0.0\n",
            "    /usr/local/lib/python3.7/dist-packages/opencv_python_headless.libs/libopenblas-r0-f650aae0.3.3.so\n",
            "    /usr/local/lib/python3.7/dist-packages/opencv_python_headless.libs/libpng15-ce838cd1.so.15.13.0\n",
            "    /usr/local/lib/python3.7/dist-packages/opencv_python_headless.libs/libquadmath-96973f99.so.0.0.0\n",
            "    /usr/local/lib/python3.7/dist-packages/opencv_python_headless.libs/libssl-6082116c.so.1.1\n",
            "    /usr/local/lib/python3.7/dist-packages/opencv_python_headless.libs/libswresample-83ce3247.so.3.7.100\n",
            "    /usr/local/lib/python3.7/dist-packages/opencv_python_headless.libs/libswscale-7e960168.so.5.7.100\n",
            "    /usr/local/lib/python3.7/dist-packages/opencv_python_headless.libs/libvpx-392cd848.so.6.4.0\n",
            "  Would not remove (might be manually added):\n",
            "    /usr/local/lib/python3.7/dist-packages/cv2/.libs/libQtCore-bbdab771.so.4.8.7\n",
            "    /usr/local/lib/python3.7/dist-packages/cv2/.libs/libQtGui-903938cd.so.4.8.7\n",
            "    /usr/local/lib/python3.7/dist-packages/cv2/.libs/libQtTest-1183da5d.so.4.8.7\n",
            "    /usr/local/lib/python3.7/dist-packages/cv2/.libs/libavcodec-3cdd3bd4.so.58.62.100\n",
            "    /usr/local/lib/python3.7/dist-packages/cv2/.libs/libavformat-69a63b50.so.58.35.100\n",
            "    /usr/local/lib/python3.7/dist-packages/cv2/.libs/libavutil-8e8979a8.so.56.36.100\n",
            "    /usr/local/lib/python3.7/dist-packages/cv2/.libs/libbz2-7225278b.so.1.0.3\n",
            "    /usr/local/lib/python3.7/dist-packages/cv2/.libs/libcrypto-a25ff511.so.1.1\n",
            "    /usr/local/lib/python3.7/dist-packages/cv2/.libs/libssl-fdf0b66c.so.1.1\n",
            "    /usr/local/lib/python3.7/dist-packages/cv2/.libs/libswresample-c6b3bbb9.so.3.6.100\n",
            "    /usr/local/lib/python3.7/dist-packages/cv2/.libs/libswscale-2d19f7d1.so.5.6.100\n",
            "    /usr/local/lib/python3.7/dist-packages/cv2/.libs/libvpx-c887ea55.so.6.1.0\n",
            "    /usr/local/lib/python3.7/dist-packages/cv2/.libs/libz-a147dcb0.so.1.2.3\n",
            "Proceed (y/n)? y\n",
            "  Successfully uninstalled opencv-python-headless-4.5.4.60\n",
            "Collecting opencv-python-headless==4.5.2.52\n",
            "  Downloading opencv_python_headless-4.5.2.52-cp37-cp37m-manylinux2014_x86_64.whl (38.2 MB)\n",
            "\u001b[K     |████████████████████████████████| 38.2 MB 1.3 MB/s \n",
            "\u001b[?25hRequirement already satisfied: numpy>=1.14.5 in /usr/local/lib/python3.7/dist-packages (from opencv-python-headless==4.5.2.52) (1.21.6)\n",
            "Installing collected packages: opencv-python-headless\n",
            "Successfully installed opencv-python-headless-4.5.2.52\n"
          ]
        }
      ],
      "source": [
        "!pip install pdf2image\n",
        "!pip install easyocr\n",
        "!pip install torch torchvision torchaudio\n",
        "!pip uninstall opencv-python-headless==4.5.5.62\n",
        "!pip install opencv-python-headless==4.5.2.52"
      ]
    },
    {
      "cell_type": "code",
      "execution_count": null,
      "metadata": {
        "colab": {
          "base_uri": "https://localhost:8080/"
        },
        "id": "Lo0auEDAXbul",
        "outputId": "10f1c238-e33f-486e-bb71-a182b7a38d18"
      },
      "outputs": [
        {
          "output_type": "stream",
          "name": "stdout",
          "text": [
            "Reading package lists... Done\n",
            "Building dependency tree       \n",
            "Reading state information... Done\n",
            "The following package was automatically installed and is no longer required:\n",
            "  libnvidia-common-460\n",
            "Use 'apt autoremove' to remove it.\n",
            "The following NEW packages will be installed:\n",
            "  poppler-utils\n",
            "0 upgraded, 1 newly installed, 0 to remove and 42 not upgraded.\n",
            "Need to get 154 kB of archives.\n",
            "After this operation, 613 kB of additional disk space will be used.\n",
            "Get:1 http://archive.ubuntu.com/ubuntu bionic-updates/main amd64 poppler-utils amd64 0.62.0-2ubuntu2.12 [154 kB]\n",
            "Fetched 154 kB in 0s (583 kB/s)\n",
            "Selecting previously unselected package poppler-utils.\n",
            "(Reading database ... 155629 files and directories currently installed.)\n",
            "Preparing to unpack .../poppler-utils_0.62.0-2ubuntu2.12_amd64.deb ...\n",
            "Unpacking poppler-utils (0.62.0-2ubuntu2.12) ...\n",
            "Setting up poppler-utils (0.62.0-2ubuntu2.12) ...\n",
            "Processing triggers for man-db (2.8.3-2ubuntu0.1) ...\n"
          ]
        }
      ],
      "source": [
        "!apt-get install poppler-utils"
      ]
    },
    {
      "cell_type": "markdown",
      "metadata": {
        "id": "x4XtvkxZW--N"
      },
      "source": [
        "## PDF to image + yolo"
      ]
    },
    {
      "cell_type": "code",
      "execution_count": null,
      "metadata": {
        "colab": {
          "base_uri": "https://localhost:8080/"
        },
        "id": "9gWQ_KMKjXkA",
        "outputId": "9926f614-e68f-4594-d70a-87af7e8d3e19"
      },
      "outputs": [
        {
          "output_type": "stream",
          "name": "stdout",
          "text": [
            "/content/drive/MyDrive/PFE2/yolo/yolov5\n"
          ]
        }
      ],
      "source": [
        "%cd /content/drive/MyDrive/PFE2/yolo/yolov5"
      ]
    },
    {
      "cell_type": "code",
      "execution_count": null,
      "metadata": {
        "id": "At5Gp-oyYmEo",
        "colab": {
          "base_uri": "https://localhost:8080/"
        },
        "outputId": "9314d0b0-910b-4595-b41e-abcab207366b"
      },
      "outputs": [
        {
          "output_type": "stream",
          "name": "stdout",
          "text": [
            "\u001b[?25l\r\u001b[K     |▌                               | 10 kB 21.1 MB/s eta 0:00:01\r\u001b[K     |█                               | 20 kB 6.0 MB/s eta 0:00:01\r\u001b[K     |█▋                              | 30 kB 3.8 MB/s eta 0:00:01\r\u001b[K     |██▏                             | 40 kB 3.6 MB/s eta 0:00:01\r\u001b[K     |██▊                             | 51 kB 3.3 MB/s eta 0:00:01\r\u001b[K     |███▎                            | 61 kB 3.9 MB/s eta 0:00:01\r\u001b[K     |███▉                            | 71 kB 4.1 MB/s eta 0:00:01\r\u001b[K     |████▍                           | 81 kB 4.0 MB/s eta 0:00:01\r\u001b[K     |█████                           | 92 kB 4.5 MB/s eta 0:00:01\r\u001b[K     |█████▌                          | 102 kB 4.5 MB/s eta 0:00:01\r\u001b[K     |██████                          | 112 kB 4.5 MB/s eta 0:00:01\r\u001b[K     |██████▋                         | 122 kB 4.5 MB/s eta 0:00:01\r\u001b[K     |███████▏                        | 133 kB 4.5 MB/s eta 0:00:01\r\u001b[K     |███████▊                        | 143 kB 4.5 MB/s eta 0:00:01\r\u001b[K     |████████▎                       | 153 kB 4.5 MB/s eta 0:00:01\r\u001b[K     |████████▉                       | 163 kB 4.5 MB/s eta 0:00:01\r\u001b[K     |█████████▍                      | 174 kB 4.5 MB/s eta 0:00:01\r\u001b[K     |██████████                      | 184 kB 4.5 MB/s eta 0:00:01\r\u001b[K     |██████████▍                     | 194 kB 4.5 MB/s eta 0:00:01\r\u001b[K     |███████████                     | 204 kB 4.5 MB/s eta 0:00:01\r\u001b[K     |███████████▌                    | 215 kB 4.5 MB/s eta 0:00:01\r\u001b[K     |████████████                    | 225 kB 4.5 MB/s eta 0:00:01\r\u001b[K     |████████████▋                   | 235 kB 4.5 MB/s eta 0:00:01\r\u001b[K     |█████████████▏                  | 245 kB 4.5 MB/s eta 0:00:01\r\u001b[K     |█████████████▊                  | 256 kB 4.5 MB/s eta 0:00:01\r\u001b[K     |██████████████▎                 | 266 kB 4.5 MB/s eta 0:00:01\r\u001b[K     |██████████████▉                 | 276 kB 4.5 MB/s eta 0:00:01\r\u001b[K     |███████████████▍                | 286 kB 4.5 MB/s eta 0:00:01\r\u001b[K     |████████████████                | 296 kB 4.5 MB/s eta 0:00:01\r\u001b[K     |████████████████▌               | 307 kB 4.5 MB/s eta 0:00:01\r\u001b[K     |█████████████████               | 317 kB 4.5 MB/s eta 0:00:01\r\u001b[K     |█████████████████▋              | 327 kB 4.5 MB/s eta 0:00:01\r\u001b[K     |██████████████████▏             | 337 kB 4.5 MB/s eta 0:00:01\r\u001b[K     |██████████████████▊             | 348 kB 4.5 MB/s eta 0:00:01\r\u001b[K     |███████████████████▎            | 358 kB 4.5 MB/s eta 0:00:01\r\u001b[K     |███████████████████▉            | 368 kB 4.5 MB/s eta 0:00:01\r\u001b[K     |████████████████████▍           | 378 kB 4.5 MB/s eta 0:00:01\r\u001b[K     |████████████████████▉           | 389 kB 4.5 MB/s eta 0:00:01\r\u001b[K     |█████████████████████▍          | 399 kB 4.5 MB/s eta 0:00:01\r\u001b[K     |██████████████████████          | 409 kB 4.5 MB/s eta 0:00:01\r\u001b[K     |██████████████████████▌         | 419 kB 4.5 MB/s eta 0:00:01\r\u001b[K     |███████████████████████         | 430 kB 4.5 MB/s eta 0:00:01\r\u001b[K     |███████████████████████▋        | 440 kB 4.5 MB/s eta 0:00:01\r\u001b[K     |████████████████████████▏       | 450 kB 4.5 MB/s eta 0:00:01\r\u001b[K     |████████████████████████▊       | 460 kB 4.5 MB/s eta 0:00:01\r\u001b[K     |█████████████████████████▎      | 471 kB 4.5 MB/s eta 0:00:01\r\u001b[K     |█████████████████████████▉      | 481 kB 4.5 MB/s eta 0:00:01\r\u001b[K     |██████████████████████████▍     | 491 kB 4.5 MB/s eta 0:00:01\r\u001b[K     |███████████████████████████     | 501 kB 4.5 MB/s eta 0:00:01\r\u001b[K     |███████████████████████████▌    | 512 kB 4.5 MB/s eta 0:00:01\r\u001b[K     |████████████████████████████    | 522 kB 4.5 MB/s eta 0:00:01\r\u001b[K     |████████████████████████████▋   | 532 kB 4.5 MB/s eta 0:00:01\r\u001b[K     |█████████████████████████████▏  | 542 kB 4.5 MB/s eta 0:00:01\r\u001b[K     |█████████████████████████████▊  | 552 kB 4.5 MB/s eta 0:00:01\r\u001b[K     |██████████████████████████████▎ | 563 kB 4.5 MB/s eta 0:00:01\r\u001b[K     |██████████████████████████████▊ | 573 kB 4.5 MB/s eta 0:00:01\r\u001b[K     |███████████████████████████████▎| 583 kB 4.5 MB/s eta 0:00:01\r\u001b[K     |███████████████████████████████▉| 593 kB 4.5 MB/s eta 0:00:01\r\u001b[K     |████████████████████████████████| 596 kB 4.5 MB/s \n",
            "\u001b[?25h"
          ]
        }
      ],
      "source": [
        "%pip install -qr requirements.txt # install dependencies"
      ]
    },
    {
      "cell_type": "code",
      "source": [
        "!python utils.py"
      ],
      "metadata": {
        "colab": {
          "base_uri": "https://localhost:8080/"
        },
        "id": "-V89zr9BXUNR",
        "outputId": "8ab7af7b-d991-4850-ef43-b54627094036"
      },
      "execution_count": null,
      "outputs": [
        {
          "output_type": "stream",
          "name": "stdout",
          "text": [
            "\u001b[34m\u001b[1mdetect: \u001b[0mweights=runs/train/exp/weights/best.pt, source=/content/drive/MyDrive/PFE2/yolo/yolov5/test/img/1, data=data/coco128.yaml, imgsz=[416, 416], conf_thres=0.1, iou_thres=0.45, max_det=1000, device=, view_img=False, save_txt=False, save_conf=False, save_crop=True, nosave=False, classes=None, agnostic_nms=False, augment=False, visualize=False, update=False, project=runs/detect, name=exp, exist_ok=False, line_thickness=3, hide_labels=False, hide_conf=False, half=False, dnn=False\n",
            "YOLOv5 🚀 v6.1-110-g0ca85ed torch 1.11.0+cu113 CUDA:0 (Tesla K80, 11441MiB)\n",
            "\n",
            "Fusing layers... \n",
            "Model summary: 213 layers, 7020913 parameters, 0 gradients\n",
            "image 1/8 /content/drive/MyDrive/PFE2/yolo/yolov5/test/img/1/cbbcb089-13ef-4f06-8386-1ad0e01f29ab-1.jpg: 416x320 1 nom, 3 sections, 1 titre, Done. (0.023s)\n",
            "image 2/8 /content/drive/MyDrive/PFE2/yolo/yolov5/test/img/1/cbbcb089-13ef-4f06-8386-1ad0e01f29ab-2.jpg: 416x320 4 sections, Done. (0.021s)\n",
            "image 3/8 /content/drive/MyDrive/PFE2/yolo/yolov5/test/img/1/cbbcb089-13ef-4f06-8386-1ad0e01f29ab-3.jpg: 416x320 5 sections, Done. (0.021s)\n",
            "image 4/8 /content/drive/MyDrive/PFE2/yolo/yolov5/test/img/1/cbbcb089-13ef-4f06-8386-1ad0e01f29ab-4.jpg: 416x320 5 sections, Done. (0.021s)\n",
            "image 5/8 /content/drive/MyDrive/PFE2/yolo/yolov5/test/img/1/cbbcb089-13ef-4f06-8386-1ad0e01f29ab-5.jpg: 416x320 3 sections, Done. (0.021s)\n",
            "image 6/8 /content/drive/MyDrive/PFE2/yolo/yolov5/test/img/1/cbbcb089-13ef-4f06-8386-1ad0e01f29ab-6.jpg: 416x320 2 sections, Done. (0.021s)\n",
            "image 7/8 /content/drive/MyDrive/PFE2/yolo/yolov5/test/img/1/cbbcb089-13ef-4f06-8386-1ad0e01f29ab-7.jpg: 416x320 2 sections, Done. (0.021s)\n",
            "image 8/8 /content/drive/MyDrive/PFE2/yolo/yolov5/test/img/1/cbbcb089-13ef-4f06-8386-1ad0e01f29ab-8.jpg: 416x320 4 sections, Done. (0.021s)\n",
            "Speed: 0.5ms pre-process, 21.3ms inference, 1.6ms NMS per image at shape (1, 3, 416, 416)\n",
            "Results saved to \u001b[1mruns/detect/exp\u001b[0m\n",
            "{\n",
            "    \"nom_prenom\": \"\",\n",
            "    \"email\": \"\",\n",
            "    \"phone_number\": \"\",\n",
            "    \"contact\": \" mr. beno\\u00eet jaffres +33 (0) 6 87 06 16 67 benoit jaffres@gmail com benoit jaffres expert san, stockage, sauvegarde mr. beno\\u00eet jaffres +33 (0) 6 87 06 16 67 benoit jaffres@qmail com mr. beno\\u00eet jaffres +33 (0) 6 87 06 16 67 benoit jaffres@gmail com eovi-mcd mutuelle 11/2013 07/2014 mr. beno\\u00eet jaffres +33 (0) 6 87 06 16 67 benoit jaffres@gmail com eovi-mcd mutuelle \\u20acevmcd expert tsm\",\n",
            "    \"profil\": \" sncf 05/2017 _ 11/2017 sncf expert stockage expertise technique au sein du projet roses (r\\u00e9organisation des offres de stockage) de la sncf. migration de 54 baies vers une seule technologie de stockage emc vmax3 all-flash. migration de donn\\u00e9es de stockage dans un contexte de forte h\\u00e9t\\u00e9rog\\u00e9n\\u00e9it\\u00e9 de stockages sources et dos. migration de san dans un contexte de forte h\\u00e9t\\u00e9rog\\u00e9n\\u00e9it\\u00e9 de r\\u00e9seaux sources r\\u00e9alisation des copies par duplication des donn\\u00e9es cot\\u00e9 serveur ou cot\\u00e9 baie. r\\u00e9alisation de pilotes de migration. korian 10/2015 04/2017 korian architecte stockage sauvegarde gestion des projets et consolidation des infrastructures de stockage; sauvegarde. audit complet des infrastructures sauvegarde et san stockage optimisation des infrastructures de stockage sauvegarde gestion des contrats de maintenance logicielle et mat\\u00e9rielle gestion compl\\u00e8te dun projet de sauvegarde de 400 sites distants r\\u00e9daction de rfi rfp s\\u00e9lection des soumissionnaires comparatif technique et financier des offres d\\u00e9ploiement de la solution\",\n",
            "    \"langues\": \" langues anglais courant\",\n",
            "    \"formation\": \" formations 2020 cisco mds 2018 aws fundamentals 2009 emc control center (emc-ccm) 2009 hp formation intensive aux technologies san (uc434s) 2007 formation veritas cluster for unix 2005 cisco ccna 2005 certification solaris 9 (cx-310-014) formations initiales 2004 2005 licence professionnelle ing\\u00e9nierie des r\\u00e9seaux informatique \\u00e0 luniversit\\u00e9 de nice sophia antipolis 2002 2004 bts informatique de gestion option administrateur de r\\u00e9seaux locaux \\u00e0 iifa (institut de formation par alternance) de la cci (chambre de commerce et de lindustrie) de strasbourg 2000 2001 daeu b (\\u00e9quivalent au bac s par les cours du soir) \\u00e0 /ulp (universit\\u00e9 louis pasteur) de strasbourg 1994 1996 b.ep. et c.ap. de couvreur zingueur au sein des compagnons du devoir de strasbourg et en apprentissage chez les couvreurs rh\\u00e9nans\",\n",
            "    \"projets\": \"\",\n",
            "    \"experience\": \" edf 07/2021 01/2021 edf architecte san cisco conception; qualification; installation et validation dune nouveau r\\u00e9seau san cisco. \\u00e9laboration; validation de la proc\\u00e9dure de migration: \\u00e9tude et validation des sp\\u00e9cifications techniques et fonctionnels elaboration du hld (high level design) cr\\u00e9ation et validation des sc\\u00e9narios de test \\u00e9laboration et validation de la strat\\u00e9gie de migration san r\\u00e9daction des livrables respect des engagements accompagnement des d\\u00e9veloppeurs api utui 06/2020 06/2021 directeur g\\u00e9n\\u00e9ral activit\\u00e9 e-commerce, marketing et vente en btoc. d\\u00e9finition de la politique commerciale dun portefeuille de produits \\u00e9laboration et mise en \\u0153uvre de la strat\\u00e9gie marketing \\u00e0 court et moyen termes arbitrage et allocation des moyens ressources analyse des r\\u00e9sultats et de la rentabilit\\u00e9 des produits ou de lentreprise par rapport aux objectifs contr\\u00f4le et synth\\u00e8se des r\\u00e9sultats des campagnes marketing et d\\u00e9termination de nouvelles orientations sourcing de produits et s\\u00e9lection de fournisseurs conception et r\\u00e9daction de textes et dargumentaires commerciaux veille concurrentielle commerciale et technologique \\u00e9laboration de strat\\u00e9gies e-commerce gestion des projets web en lien avec lidentit\\u00e9 visuelle et sa d\\u00e9clinaison en termes de charte graphique 5 oie enedis 01/2019 05/2020 en?dis enedis 01/2019 05/2020 lelectricite en reseau architecte infrastructure d\\u00e9finition des solutions de san/stockage et sauvegarde de la nouvelle infrastructure cloud de linky: analyse des besoins design des nouvelles solutions de sanistockage et sauvegarde r\\u00e9alisation de pocs, validation de larchitectures mise en \\u0153uvre des infrastructures travaux de design du ceph (software-defined storage) et des serveurs cisco ucs @ cr\\u00e9dit-agricole 12/2014 09/2015 ing\\u00e9nieur san stockage au sein des \\u00e9quipes stockage open\\\" ca-technologies; en charge du p\\u00e9rim\\u00e8tre san stockage. maintien en condition op\\u00e9rationnel des infrastructures de stockage 2 sites, 8 baies vmax-1 & 2, 26 directors san cisco mds-9500 support n2 des incidents et probl\\u00e8mes; relationslescalades aupr\\u00e8s des constructeurs (emc,cisco) suivis et contr\\u00f4les sur le respect des normes et standards r\\u00e9daction ou mise \\u00e0 niveau des documents dexploitation prise bpce it 12/2017 08/2018 bpce expert stockage expertise au sein de l\\u00e9quipe san du groupe bpce migration de toutes les baies san vers une seule technologie de stockage emc vmax3 all-flash. analyse des besoins design de la nouvelle solution de stockage r\\u00e9alisation dun poc, validation de larchitecture pilotage des op\\u00e9rations de migrations par loutil emc ndm r\\u00e9daction des livrables maintien en condition op\\u00e9rationnel des infrastructures de stockage historiques reporting \\u00e0 la direction de projet administration technique de fensemble des infrastructures de sauvegarde. audit complet de linfrastructure optimisation compl\\u00e8te de linfrastructure \\u00e9tude de march\\u00e9 des nouvelles infrastructures de sauvegarde pr\\u00e9conisation des \\u00e9volutions mat\\u00e9rielles mise en place des proc\\u00e9dures de gestion et dadministration optimisation de proc\\u00e9dures existantes gestion des incidents critiques installation; optimisation; et mises \\u00e0 jour des modules tdp for ve (vmware) et exchange restauration de bases donn\\u00e9es oracle 0 british telecom (bt) services france 03/2013 10/2013 bt expert san stockage sauvegarde au sein de l\\u00e9quipe experts san stockage sauvegarde de bt france; prise en charge des probl\\u00e9matiques san, stockage et sauvegarde pour bt et ses clients: pilotage de projet, r\\u00e9novation des infrastructures de sauvegardes networker scalar i6000 pr\\u00e9paration; mise en production et suivit des changements techniques li\\u00e9s \\u00e0 des probl\\u00e9matiques san et nas netapp - emc clariion analyse de performances stockage avec r\\u00e9solution et plan daction associ\\u00e9 netapp emc clariion expertise et analyse des incidents li\\u00e9s aux probl\\u00e9matiques de sauvegarde emc networker symantec netbackup ibm tsm hp dataprotector atempo tina coordination du suivit des escalades fournisseurs r\\u00e9daction de dossiers dexploitation (dex) dossiers darchitecture (dat) rapports de faisabilit\\u00e9s techniques (rft) request for change (rfc) rapports de prise en charge (pec) cnam cti rh\\u00f4ne alpes auvergne (ctiraa) 01/2013 02/2013 cnam expert unix linux au sein de l\\u00e9quipe experts unix linux du ctiraa de la cnam, projet de d\\u00e9ploiement &une nouvelle solution dauthentification des serveurs unix linux. pilotage de projet; mise en \\u0153uvre de compte nominatif et authentification par cl\\u00e9 priv\\u00e9 cl\\u00e9 publique sur les serveurs aix linux mise en \\u0153uvre et d\\u00e9ploiement de la solution scripting shell r\\u00e9daction de dossiers dexploitation (dex) documentation utilisateurs cnam cti rh\\u00f4ne alpes auvergne (ctiraa) 01/2013 02/2013 cnam expert unix linux au sein de f\\u00e9quipe experts unix linux du ctiraa de la cnam, projet de d\\u00e9ploiement dune nouvelle solution dauthentification des serveurs unix linux. pilotage de projet; mise en \\u0153uvre de compte nominatif et authentification par cl\\u00e9 priv\\u00e9 / cl\\u00e9 publique sur les serveurs aix linux mise en \\u0153uvre et d\\u00e9ploiement de la solution scripting shell r\\u00e9daction de dossiers dexploitation (dex) documentation utilisateurs cr\\u00e9dit-agricole 07/2012 12/2012 @ ing\\u00e9nieur san stockage au sein des \\u00e9quipes du projet nice ca-technologies, en charge du p\\u00e9rim\\u00e8tre san _ stockage: administration technique des ressources de stockage sur 3 sites; 6 baies vmax-1, 26 directors san cisco mds-9500. pr\\u00e9paration, mise en production et suivit des changements techniques li\\u00e9s au stockage. mise en \\u0153uvre des rex (retours dexp\\u00e9riences) r\\u00e9daction ou mise \\u00e0 niveau des documents dexploitation. prise groupe zasino casino 02/2010 06/2012 nourrir un monde de diversite expert sauvegarde au sein des \\u00e9quipes production casino, en charge du p\\u00e9rim\\u00e8tre sauvegarde: gestion des infrastructures de sauvegarde (serveurs, librairies; baies, outils et r\\u00e9seaux de sauvegarde) conception et mise en \\u0153uvre des \\u00e9volutions de linfrastructure de sauvegarde. r\\u00e9alisation des \\u00e9volutions sur la politique et les architectures de sauvegarde. expertise technique aupr\\u00e8s des \\u00e9quipes projet. r\\u00e9daction de dossiers darchitecture. appui technique aux projets applicatifs strat\\u00e9giques . r\\u00e9daction de proc\\u00e9dures techniques. r\\u00e9alisation des tableaux de bord sur lutilisation de la solution de sauvegarde et ses performances_ industrialisation des processus r\\u00e9alisation d\\u00e9tudes de faisabilit\\u00e9 (veille technologique, suivit des nouvelles versions et corrections du logiciel de sauvegarde et r\\u00e9alisation des mises \\u00e0 jour. r\\u00e9alisation du support de niveau 3 (r\\u00e9solution dincidents; r\\u00e9solution de probl\\u00e8mes; pr\\u00e9conisation dam\\u00e9liorations) pr\\u00e9paration; mise en production et suivit des changements techniques li\\u00e9s au stockage. sncf 11/2008 01/2010 sncf ing\\u00e9nieur san stockage au sein des \\u00e9quipes centrales sncf dadministration; prise en charge du p\\u00e9rim\\u00e8tre san & stockage >_ administration technique des ressources de stockage sur 3 sites, 3 baies hp eva; 6 baies emc, 60 switchs brocade. pr\\u00e9paration; mise en production et suivit des changements techniques et applicatifs li\\u00e9s au stockage d\\u00e9di\\u00e9. analyse des performances et incidents avec r\\u00e9solution et plan daction associ\\u00e9. coordination du suivit des incidents mat\\u00e9riels pris en compte par la maintenance. d\\u00e9ploiement doutils dadministration et de suivi du p\\u00e9rim\\u00e8tre stockage. mise en \\u0153uvre des rex (retours dexp\\u00e9riences) r\\u00e9daction ou mise \\u00e0 niveau des documents dexploitation. prise mr. beno\\u00eet jaffres +33 (0) 6 87 06 16 67 benoit jaffres@gmail com erdf erdf 01/2007 10/2008 elctiiciteaese  okthibuton franc: ing\\u00e9nieur syst\\u00e8me unix dans le cadre dun projet dinfog\\u00e9rance: administration de 170 serveurs sous solaris 8,10 et aix supportant notamment oracle et weblogic. gestion des plateformes de production; pr\\u00e9-production et qualification. gestion des mises en production des \\u00e9volutions applicatives et techniques support niveau 2 et 3 le traitement des incidents majeurs dans le cadre dune approche de type gestion de probl\\u00e8mes support niveau 3 sur solaris 8 et 10 pour l\\u00e9quipe dinfog\\u00e9rance traitement des incidents sur la chaine de production sous controlm analyse des logs correction des d\\u00e9fauts relance \\u00e9ventuelle de la chaine installation de nouveaux environnements syst\\u00e8mes et applicatifs. configuration des volumes group via vxvm en environnement san hp installation et configuration dun cluster veritas prise en charge de loutillage de sauvegarde networker d\\u00e9finition des politiques de sauvegardeslrestitution r\\u00e9alisation de tests de pra techniques d\\u00e9veloppement de scripts danalyse du bon fonctionnement des sauvegardes sous networker la poste 05/2006 12/2006 la poste ing\\u00e9nieur syst\\u00e8me unix) dans le cadre dun projet de changement de plan &adressage ip sur plus de 2000 serveurs. analyse des contraintes syst\\u00e8mes et r\\u00e9seaux r\\u00e9alisation dun script dautomatisation pour les diff\\u00e9rents environnements changement dadressage ip pour les serveurs hp-ux 11i et solaris 8 installation et configuration de boitiers de d\\u00e9ports de consoles (raritan) pour ibm 11/2005 04/2006 igm ing\\u00e9nieur tsm au sein des \\u00e9quipes centrales ibm dadministration; prise en charge du p\\u00e9rim\\u00e8tre sauvegarde tsm support niveau 2 et niveau 3 sur linfrastructure tsm gestion des serveurs de sauvegarde en environnement aix 5.3 param\\u00e9trage de clients sous tsm pour unix et windows installation et configuration dagent de sauvegarde pour les environnements san installation de lagent de sauvegarde bases ouvertes (tdp) delphi mechatronic system 09/2002 09/2005 delpai administrateur unix dans le cadre de fadministration des infrastructures unix: installation de syst\\u00e8mes serveurs et clients sous aix 5.1 et hp-ux 11i installation de packages applicatifs exploitation des serveurs gestion des volumes logiques des serveurs d\\u00e9veloppement de script dautomatisation des t\\u00e2ches dadministration gestion des droits utilisateurs prise en charge de fexploitation du syst\\u00e8me de sauvegarde: installation de tsm 4.3 (serveur et client) sur aix 5.1 mise en place des politiques de sauvegarde avec les scheduler tsm mise en place dune proc\\u00e9dure darchivage avec une partition logique sauvegarde et restauration\",\n",
            "    \"competences\": \" comp\\u00e9tences techniques baies des stockages emc dmx vmax2 vmax3 pmax, clariion; celerra vipr vplex - datadomain, hp eva hpe 3par, dell compellent; netapp; hitachi hds vsp g1500 g5100, ibm ds8ooo v9ooo reseaux san brocade; cisco mds 9148s 9148t 9706 = 9710 logiciels des sauvegardes ibm tivoli storage manager; netbackup; emc legato networker avamar, hp data protector, tina, veeam, commvault sauvegardes sur bandes storagetekisunioracle sl8500 sl5oo = l7oo l80 t10ooo 9840 lto4, quantum scalar i2000 i60oo os sun solaris 8 = 9 10, ibm aix 4.3 - 5.1 - 5.3 - 5.4 - 6.1, linux redhat 4 - 5 - 6 - 7, hp hp-ux 10.00 11.00 11i, windows 2000 = 2003 server = 2008 = 2008 r2 = 2012 = 2016, windows xp = 7 = 8 - 10, centos, vmware 5.5 6.0, macos langages shell domaines dinterventions architecture \\u00e9tude du cahier des charges; \\u00e9tude de faisabilit\\u00e9, \\u00e9tude des sp\\u00e9cifications fonctionnels; validation des sp\\u00e9cifications fonctionnelles et techniques . conception dinfrastructures sanistockagelsauvegarde, cr\\u00e9ation des sc\\u00e9narios de test mise en place des poc, proposition de planning, cr\\u00e9ation de documents de planification de test et de validation, r\\u00e9daction du dat. r\\u00e9daction de cahier des charges, r\\u00e9daction de plan de migration; gestion de budget. gestion de planning et de plan de contribution des ressources. pilotage de prestataires gestion des livrables et des engagements expertise technique r\\u00e9solutions de probl\\u00e8mes complexes; audit des infrastructures sanistockagelsauvegarde; d\\u00e9ploiements multi sites_ connaissance des r\\u00e8gles de lart techniques, analyse et recommandations dam\\u00e9lioration; maitrise des m\\u00e9thodes, normes et outils standards de conception. \\u00e9laboration et d\\u00e9ploiement de m\\u00e9thodologies de r\\u00e9solution; proposition de solutions et sc\\u00e9narii dam\\u00e9lioration; analyse des documents techniques . travail en collaboration avec les ing\\u00e9nieurs techniques et autres experts; maitrise des m\\u00e9thodes itil etlou agiles; animation de workshop; synth\\u00e8se des m\\u00e9thodologies et connaissances \\u00e0 transmettre; \\u00e9changes en anglais en contexte professionnel. 3/8\",\n",
            "    \"autres\": \"\"\n",
            "}\n"
          ]
        }
      ]
    },
    {
      "cell_type": "markdown",
      "source": [
        "##eli louta lkol zeyed"
      ],
      "metadata": {
        "id": "HvGeOJ3nIFzo"
      }
    },
    {
      "cell_type": "code",
      "execution_count": null,
      "metadata": {
        "id": "USGXVgcUjttv"
      },
      "outputs": [],
      "source": [
        "import shutil\n",
        "# String path of folder to be removed:\n",
        "path1 = '/content/drive/MyDrive/PFE2/yolo/yolov5/runs/detect/exp'\n",
        "path2 = '/content/drive/MyDrive/PFE2/yolo/yolov5/test/img/1'\n",
        "# Remove the folder recursively:\n",
        "\n",
        "shutil.rmtree(path1)\n",
        "shutil.rmtree(path2)"
      ]
    },
    {
      "cell_type": "code",
      "source": [
        "def delete_used_folders():\n",
        "  path1 = '/content/drive/MyDrive/PFE2/yolo/yolov5/runs/detect/exp'\n",
        "  path2 = '/content/drive/MyDrive/PFE2/yolo/yolov5/test/img/1'\n",
        "  shutil.rmtree(path1)\n",
        "  shutil.rmtree(path2)\n"
      ],
      "metadata": {
        "id": "3blYjhMuFRQz"
      },
      "execution_count": null,
      "outputs": []
    },
    {
      "cell_type": "code",
      "source": [
        "\n",
        "###################################################################\"\"\n",
        "#OCR function\n",
        "import easyocr\n",
        "import cv2\n",
        "from matplotlib import pyplot as plt\n",
        "import os\n",
        "\n",
        "path = \"runs/detect/exp/crops/section\"\n",
        "dir_list = os.listdir(path)\n",
        "def image_to_text(crop_path):\n",
        "  IMAGE_PATH = crop_path\n",
        "  reader = easyocr.Reader(['fr'])\n",
        "  result = reader.readtext(IMAGE_PATH , detail=0)\n",
        "\n",
        "  ch=''\n",
        "  for i in result:\n",
        "    ch =ch+' '+i\n",
        "  return(ch)  \n",
        "\n",
        "myCV = []\n",
        "for i in dir_list :\n",
        "  myCV.append(image_to_text('runs/detect/exp/crops/section/'+i))\n"
      ],
      "metadata": {
        "id": "edRwBPHDegwF",
        "colab": {
          "base_uri": "https://localhost:8080/"
        },
        "outputId": "04547715-dd19-4c32-8a99-8bb8f689c77b"
      },
      "execution_count": null,
      "outputs": [
        {
          "output_type": "stream",
          "name": "stderr",
          "text": [
            "Downloading detection model, please wait. This may take several minutes depending upon your network connection.\n"
          ]
        },
        {
          "output_type": "stream",
          "name": "stdout",
          "text": [
            "Progress: |██████████████████████████████████████████████████| 100.0% Complete"
          ]
        },
        {
          "output_type": "stream",
          "name": "stderr",
          "text": [
            "Downloading recognition model, please wait. This may take several minutes depending upon your network connection.\n"
          ]
        },
        {
          "output_type": "stream",
          "name": "stdout",
          "text": [
            "Progress: |██████████████████████████████████████████████████| 100.0% Complete"
          ]
        }
      ]
    },
    {
      "cell_type": "code",
      "source": [
        "!pip install wandb\n",
        "import wandb\n",
        "wandb.init()"
      ],
      "metadata": {
        "id": "HYGn-2U7cfOx"
      },
      "execution_count": null,
      "outputs": []
    },
    {
      "cell_type": "markdown",
      "metadata": {
        "id": "ifWzCsFSXJ31"
      },
      "source": [
        "##OCR"
      ]
    },
    {
      "cell_type": "code",
      "source": [
        "txt1 = 'Building wheels for collected packages: pathtools'\n",
        "txt2 = 'Building wheels for'\n",
        "\n",
        "result = txt1.find(txt2)\n",
        "print (result )"
      ],
      "metadata": {
        "id": "QAjiOjV7Ly70",
        "colab": {
          "base_uri": "https://localhost:8080/"
        },
        "outputId": "0ca78521-66a9-4dfe-835e-e7b6a0162f16"
      },
      "execution_count": null,
      "outputs": [
        {
          "output_type": "stream",
          "name": "stdout",
          "text": [
            "-1\n"
          ]
        }
      ]
    },
    {
      "cell_type": "code",
      "source": [
        "l=[\"LA N G U E $ Anglais : lu, écrit, parlé Français\",\"C 0 M P E T E N C E $ Système d'exploitation : Linux(Ubuntu) , Windows langage: Python, C, SQL, Java, HTMLS, CSS3 Framework: Angular, Spring boot Cloud computing AWS LA N G U E $ Anglais : lu, écrit, parlé Français \"]"
      ],
      "metadata": {
        "id": "4h4X4fqA_JRa"
      },
      "execution_count": null,
      "outputs": []
    },
    {
      "cell_type": "code",
      "source": [
        "C 0 M P E T E N C E $ Système d'exploitation : Linux(Ubuntu) , Windows langage: Python, C, SQL, Java, HTMLS, CSS3 Framework: Angular, Spring boot Cloud computing AWS LA N G U E $ Anglais : lu, écrit, parlé Français "
      ],
      "metadata": {
        "id": "lfnOGoXElGZM"
      },
      "execution_count": null,
      "outputs": []
    },
    {
      "cell_type": "code",
      "source": [
        "for i in l:\n",
        "  i = i.rtrim().ltrim()"
      ],
      "metadata": {
        "colab": {
          "base_uri": "https://localhost:8080/",
          "height": 183
        },
        "id": "r0RC0DGJk7hw",
        "outputId": "a9fba83b-1e33-4c9a-9183-7d7c31c4aaf1"
      },
      "execution_count": null,
      "outputs": [
        {
          "output_type": "error",
          "ename": "AttributeError",
          "evalue": "ignored",
          "traceback": [
            "\u001b[0;31m---------------------------------------------------------------------------\u001b[0m",
            "\u001b[0;31mAttributeError\u001b[0m                            Traceback (most recent call last)",
            "\u001b[0;32m<ipython-input-7-ef903479a96e>\u001b[0m in \u001b[0;36m<module>\u001b[0;34m()\u001b[0m\n\u001b[1;32m      1\u001b[0m \u001b[0;32mfor\u001b[0m \u001b[0mi\u001b[0m \u001b[0;32min\u001b[0m \u001b[0ml\u001b[0m\u001b[0;34m:\u001b[0m\u001b[0;34m\u001b[0m\u001b[0;34m\u001b[0m\u001b[0m\n\u001b[0;32m----> 2\u001b[0;31m   \u001b[0mi\u001b[0m \u001b[0;34m=\u001b[0m \u001b[0mi\u001b[0m\u001b[0;34m.\u001b[0m\u001b[0mrtrim\u001b[0m\u001b[0;34m(\u001b[0m\u001b[0;34m)\u001b[0m\u001b[0;34m.\u001b[0m\u001b[0mltrim\u001b[0m\u001b[0;34m(\u001b[0m\u001b[0;34m)\u001b[0m\u001b[0;34m\u001b[0m\u001b[0;34m\u001b[0m\u001b[0m\n\u001b[0m",
            "\u001b[0;31mAttributeError\u001b[0m: 'str' object has no attribute 'rtrim'"
          ]
        }
      ]
    },
    {
      "cell_type": "code",
      "source": [
        "def delrepetition(l):\n",
        "  \n",
        "  for i in range(len(l)):\n",
        "    for j in range(len(l)):\n",
        "      if (l[i].find(l[j])!=-1 ) and (i!=j):\n",
        "        l[j]=''\n",
        "  for elt in list(l):\n",
        "    if (elt == ''):\n",
        "      l.remove(elt)\n",
        "\n",
        "  return(l)"
      ],
      "metadata": {
        "id": "IGgNAK8CXYiY"
      },
      "execution_count": null,
      "outputs": []
    },
    {
      "cell_type": "code",
      "source": [
        "lfinal= delrepetition(l)"
      ],
      "metadata": {
        "id": "LDVI9C2KBLtz"
      },
      "execution_count": null,
      "outputs": []
    },
    {
      "cell_type": "code",
      "source": [
        "lfinal"
      ],
      "metadata": {
        "colab": {
          "base_uri": "https://localhost:8080/"
        },
        "id": "jJ9XWJbsBLkJ",
        "outputId": "51333f2b-3b3a-4133-b712-477596684a93"
      },
      "execution_count": null,
      "outputs": [
        {
          "output_type": "execute_result",
          "data": {
            "text/plain": [
              "[\"C 0 M P E T E N C E $ Système d'exploitation : Linux(Ubuntu) , Windows langage: Python, C, SQL, Java, HTMLS, CSS3 Framework: Angular, Spring boot Cloud computing AWS LA N G U E $ Anglais : lu, écrit, parlé Français \"]"
            ]
          },
          "metadata": {},
          "execution_count": 14
        }
      ]
    },
    {
      "cell_type": "code",
      "source": [
        ""
      ],
      "metadata": {
        "id": "L6EXYJzGXYUl"
      },
      "execution_count": null,
      "outputs": []
    },
    {
      "cell_type": "code",
      "source": [
        "cv = [' Mr. Benoît JAFFRES +33 (0) 6 87 06 16 67 benoit jaffres@gmail com Benoit JAFFRES Expert SAN, Stockage, Sauvegarde',\n",
        " ' COMPÉTENCES Techniques Baies des stockages EMC DMX VMAX2 VMAX3 PMAX, Clariion; Celerra ViPR VPLEX - Datadomain, HP EVA HPE 3PAR, DELL compellent; Netapp; Hitachi HDS VSP G1500 G5100, IBM DS8OOO V9ooo Reseaux SAN Brocade; CISCO MDS 9148S 9148T 9706 = 9710 Logiciels des sauvegardes IBM Tivoli Storage Manager; Netbackup; EMC Legato Networker Avamar, HP Data protector, TINA, VEEAM, Commvault Sauvegardes sur bandes StoragetekISUNIORACLE SL8500 SL5OO = L7OO L80 T10ooo 9840 LTO4, Quantum scalar i2000 i60oo OS Sun Solaris 8 = 9 10, IBM AIX 4.3 - 5.1 - 5.3 - 5.4 - 6.1, Linux redhat 4 - 5 - 6 - 7, HP HP-UX 10.00 11.00 11i, Windows 2000 = 2003 Server = 2008 = 2008 R2 = 2012 = 2016, Windows XP = 7 = 8 - 10, Centos, Vmware 5.5 6.0, MacOS Langages Shell',\n",
        " \" DOMAINES D'INTERVENTIONS Architecture Étude du cahier des charges; étude de faisabilité, étude des spécifications fonctionnels; validation des spécifications fonctionnelles et techniques . Conception d'infrastructures SANIStockagelSauvegarde, création des scénarios de test mise en place des POC, proposition de planning, création de documents de planification de test et de validation, rédaction du DAT. Rédaction de cahier des charges, rédaction de plan de migration; Gestion de budget. Gestion de planning et de plan de contribution des ressources. Pilotage de prestataires Gestion des livrables et des engagements Expertise technique Résolutions de problèmes complexes; audit des infrastructures SANIStockagelSauvegarde; déploiements multi sites_ Connaissance des règles de l'art techniques, analyse et recommandations d'amélioration; maitrise des méthodes, normes et outils standards de conception. Élaboration et déploiement de méthodologies de résolution; proposition de solutions et scénarii d'amélioration; analyse des documents techniques . Travail en collaboration avec les ingénieurs techniques et autres experts; maitrise des méthodes ITIL etlou agiles; animation de workshop; synthèse des méthodologies et connaissances à transmettre; échanges en anglais en contexte professionnel.\",\n",
        " ' Mr. Benoît JAFFRES +33 (0) 6 87 06 16 67 benoit jaffres@qmail com',\n",
        " ' Mr. Benoît JAFFRES +33 (0) 6 87 06 16 67 benoit jaffres@gmail com',\n",
        " \" EDF 07/2021 01/2021 eDF Architecte SAN CISCO Conception; qualification; installation et validation d'une nouveau réseau SAN CISCO. Élaboration; validation de la procédure de migration: Étude et validation des spécifications techniques et fonctionnels Elaboration du HLD (High Level Design) Création et validation des scénarios de test Élaboration et validation de la stratégie de migration SAN Rédaction des livrables Respect des engagements Accompagnement des développeurs API UTUI 06/2020 06/2021 Directeur général Activité e-Commerce, Marketing et vente en BtoC. Définition de la politique commerciale dun portefeuille de produits Élaboration et mise en œuvre de la stratégie marketing à court et moyen termes Arbitrage et allocation des moyens ressources Analyse des résultats et de la rentabilité des produits ou de l'entreprise par rapport aux objectifs Contrôle et synthèse des résultats des campagnes marketing et détermination de nouvelles orientations Sourcing de produits et sélection de fournisseurs Conception et rédaction de textes et d'argumentaires commerciaux Veille concurrentielle commerciale et technologique Élaboration de stratégies e-commerce Gestion des projets web en lien avec l'identité visuelle et sa déclinaison en termes de charte graphique 5 Oie ENEDIS 01/2019 05/2020\",\n",
        " ' En?Dis ENEDIS 01/2019 05/2020 LELECTRICITE EN RESEAU Architecte infrastructure Définition des solutions de SAN/Stockage et sauvegarde de la nouvelle infrastructure Cloud de Linky: Analyse des besoins Design des nouvelles solutions de SANIstockage et sauvegarde Réalisation de POCs, validation de larchitectures Mise en œuvre des infrastructures Travaux de design du CEPH (Software-Defined Storage) et des serveurs CISCO UCS',\n",
        " ' 3/8',\n",
        " ' Mr. Benoît JAFFRES +33 (0) 6 87 06 16 67 benoit jaffres@gmail com',\n",
        " ' @ Crédit-Agricole 12/2014 09/2015 Ingénieur SAN Stockage Au sein des équipes Stockage Open\" CA-Technologies; en charge du périmètre SAN Stockage. Maintien en condition opérationnel des infrastructures de stockage 2 sites, 8 baies VMAX-1 & 2, 26 Directors SAN Cisco MDS-9500 Support N2 des incidents et problèmes; relationslescalades auprès des constructeurs (EMC,Cisco) Suivis et contrôles sur le respect des normes et standards Rédaction ou mise à niveau des documents d\\'exploitation prise',\n",
        " ' SNCF 05/2017 _ 11/2017 SNCF Expert Stockage Expertise technique au sein du projet ROSES (Réorganisation des offres de stockage) de la SNCF. Migration de 54 baies vers une seule technologie de stockage EMC VMAX3 ALL-FLASH. Migration de données de stockage dans un contexte de forte hétérogénéité de stockages sources et dOS. Migration de SAN dans un contexte de forte hétérogénéité de réseaux sources Réalisation des copies par duplication des données coté serveur ou coté baie. Réalisation de pilotes de migration. KORIAN 10/2015 04/2017 KORIAN Architecte Stockage Sauvegarde Gestion des projets et consolidation des infrastructures de stockage; sauvegarde. Audit complet des infrastructures Sauvegarde et SAN Stockage Optimisation des infrastructures de Stockage Sauvegarde Gestion des contrats de maintenance logicielle et matérielle Gestion complète dun projet de sauvegarde de 400 sites distants Rédaction de RFI RFP Sélection des soumissionnaires Comparatif technique et financier des offres Déploiement de la solution',\n",
        " ' BPCE IT 12/2017 08/2018 BPCE Expert Stockage Expertise au sein de léquipe SAN du groupe BPCE Migration de toutes les baies SAN vers une seule technologie de stockage EMC VMAX3 ALL-FLASH. Analyse des besoins Design de la nouvelle solution de stockage Réalisation dun POC, validation de larchitecture Pilotage des opérations de migrations par loutil EMC NDM Rédaction des livrables Maintien en condition opérationnel des infrastructures de stockage historiques Reporting à la Direction de projet',\n",
        " ' Mr. Benoît JAFFRES +33 (0) 6 87 06 16 67 benoit jaffres@gmail com Eovi-mcd Mutuelle 11/2013 07/2014',\n",
        " \" Administration technique de Fensemble des infrastructures de sauvegarde. Audit complet de l'infrastructure Optimisation complète de l'infrastructure Étude de marché des nouvelles infrastructures de sauvegarde Préconisation des évolutions matérielles Mise en place des procédures de gestion et d'administration Optimisation de procédures existantes Gestion des incidents critiques Installation; optimisation; et mises à jour des modules TDP for VE (vmware) et Exchange Restauration de bases données Oracle 0\",\n",
        " \" Mr. Benoît JAFFRES +33 (0) 6 87 06 16 67 benoit jaffres@gmail com Eovi-mcd Mutuelle €eV'mcd Expert TSM\",\n",
        " \" British Telecom (BT) Services France 03/2013 10/2013 BT Expert SAN Stockage Sauvegarde Au sein de léquipe Experts SAN Stockage Sauvegarde de BT France; Prise en charge des problématiques SAN, stockage et sauvegarde pour BT et ses clients: Pilotage de projet, rénovation des infrastructures de sauvegardes NetWorker Scalar i6000 Préparation; mise en production et suivit des changements techniques liés à des problématiques SAN et NAS NetApp - EMC Clariion Analyse de performances stockage avec résolution et plan d'action associé NetApp EMC Clariion Expertise et analyse des incidents liés aux problématiques de sauvegarde EMC NetWorker Symantec Netbackup IBM TSM HP Dataprotector Atempo TINA Coordination du suivit des escalades fournisseurs Rédaction de Dossiers d'exploitation (DEX) Dossiers darchitecture (DAT) Rapports de faisabilités techniques (RFT) Request for Change (RFC) Rapports de prise en charge (PEC) CNAM CTI Rhône Alpes Auvergne (CTIRAA) 01/2013 02/2013 CNAM Expert UNIX Linux Au sein de léquipe Experts UNIX Linux du CTIRAA de la CNAM, projet de déploiement &'une nouvelle solution d'authentification des serveurs UNIX Linux. Pilotage de projet; mise en œuvre de compte nominatif et authentification par clé privé clé publique sur les serveurs AIX Linux Mise en œuvre et déploiement de la solution Scripting shell Rédaction de Dossiers dexploitation (DEX) Documentation utilisateurs\",\n",
        " \" CNAM CTI Rhône Alpes Auvergne (CTIRAA) 01/2013 02/2013 CNAM Expert UNIX Linux Au sein de Féquipe Experts UNIX Linux du CTIRAA de la CNAM, projet de déploiement dune nouvelle solution d'authentification des serveurs UNIX Linux. Pilotage de projet; mise en œuvre de compte nominatif et authentification par clé privé / clé publique sur les serveurs AIX Linux Mise en œuvre et déploiement de la solution Scripting shell Rédaction de Dossiers d'exploitation (DEX) Documentation utilisateurs\",\n",
        " ' Mr. Benoît JAFFRES +33 (0) 6 87 06 16 67 benoit jaffres@gmail com',\n",
        " ' Crédit-Agricole 07/2012 12/2012 @ Ingénieur SAN Stockage Au sein des équipes du projet NICE CA-Technologies, en charge du périmètre SAN _ Stockage: Administration technique des ressources de stockage sur 3 sites; 6 baies VMAX-1, 26 Directors SAN Cisco MDS-9500. Préparation, mise en production et suivit des changements techniques liés au stockage. Mise en œuvre des REX (Retours dexpériences) Rédaction ou mise à niveau des documents dexploitation. prise',\n",
        " \" GROuPE Zasino CASINO 02/2010 06/2012 NouRriR UN MONDE DE DiVeRSiTe Expert sauvegarde Au sein des équipes production CASINO, en charge du périmètre Sauvegarde: Gestion des infrastructures de sauvegarde (serveurs, librairies; baies, outils et réseaux de sauvegarde) Conception et mise en œuvre des évolutions de linfrastructure de sauvegarde. Réalisation des évolutions sur la politique et les architectures de sauvegarde. Expertise technique auprès des équipes projet. Rédaction de dossiers d'architecture. Appui technique aux projets applicatifs stratégiques . Rédaction de procédures techniques. Réalisation des tableaux de bord sur l'utilisation de la solution de sauvegarde et ses performances_ Industrialisation des processus Réalisation d'études de faisabilité (veille technologique, Suivit des nouvelles versions et corrections du logiciel de sauvegarde et réalisation des mises à jour. Réalisation du support de niveau 3 (résolution d'incidents; résolution de problèmes; préconisation d'améliorations) Préparation; mise en production et suivit des changements techniques liés au stockage. SNCF 11/2008 01/2010 SNCF Ingénieur SAN Stockage Au sein des équipes centrales SNCF d'administration; prise en charge du périmètre SAN & Stockage >_ Administration technique des ressources de stockage sur 3 sites, 3 baies HP EVA; 6 baies EMC, 60 switchs Brocade. Préparation; mise en production et suivit des changements techniques et applicatifs liés au stockage dédié. Analyse des performances et incidents avec résolution et plan daction associé. Coordination du suivit des incidents matériels pris en compte par la maintenance. Déploiement doutils d'administration et de suivi du périmètre Stockage. Mise en œuvre des REX (Retours dexpériences) Rédaction ou mise à niveau des documents dexploitation. prise\",\n",
        " \" Mr. Benoît JAFFRES +33 (0) 6 87 06 16 67 benoit jaffres@gmail com eRDF ERDF 01/2007 10/2008 ElCTiiciteAESe  Okthibuton Franc: Ingénieur système Unix Dans le cadre d'un projet d'infogérance: Administration de 170 serveurs sous Solaris 8,10 et AIX supportant notamment Oracle et Weblogic. Gestion des plateformes de production; pré-production et qualification. Gestion des mises en production des évolutions applicatives et techniques Support niveau 2 et 3 le traitement des incidents majeurs dans le cadre dune approche de type gestion de problèmes Support niveau 3 sur Solaris 8 et 10 pour l'équipe d'infogérance Traitement des incidents sur la chaine de production sous ControlM Analyse des logs Correction des défauts Relance éventuelle de la chaine Installation de nouveaux environnements systèmes et applicatifs. Configuration des Volumes Group via VxVM en environnement SAN HP Installation et configuration dun cluster Veritas Prise en charge de loutillage de sauvegarde Networker Définition des politiques de sauvegardeslrestitution Réalisation de tests de PRA techniques Développement de scripts danalyse du bon fonctionnement des sauvegardes sous Networker LA POSTE 05/2006 12/2006 La poste Ingénieur Système Unix) Dans le cadre dun projet de changement de plan &'adressage IP sur plus de 2000 serveurs. Analyse des contraintes systèmes et réseaux Réalisation d'un script dautomatisation pour les différents environnements Changement d'adressage IP pour les serveurs HP-UX 11i et Solaris 8 Installation et configuration de boitiers de déports de consoles (RARITAN) pour\",\n",
        " \" IBM 11/2005 04/2006 IGM Ingénieur TSM Au sein des équipes centrales IBM d'administration; prise en charge du périmètre sauvegarde TSM Support niveau 2 et niveau 3 sur l'infrastructure TSM Gestion des serveurs de sauvegarde en environnement AIX 5.3 Paramétrage de clients sous TSM pour Unix et Windows Installation et configuration dagent de sauvegarde pour les environnements SAN Installation de lagent de sauvegarde bases ouvertes (TDP)\",\n",
        " ' Mr. Benoît JAFFRES +33 (0) 6 87 06 16 67 benoit jaffres@gmail com',\n",
        " \" DELPHI mechatronic system 09/2002 09/2005 DELPAI Administrateur Unix Dans le cadre de Fadministration des infrastructures Unix: Installation de systèmes serveurs et clients sous AIX 5.1 et HP-UX 11i Installation de packages applicatifs Exploitation des serveurs Gestion des volumes logiques des serveurs Développement de script d'automatisation des tâches dadministration Gestion des droits utilisateurs Prise en charge de Fexploitation du système de sauvegarde: Installation de TSM 4.3 (serveur et client) sur AIX 5.1 Mise en place des politiques de sauvegarde avec les scheduler TSM Mise en place dune procédure d'archivage avec une partition logique Sauvegarde et restauration\",\n",
        " ' Mr. Benoît JAFFRES +33 (0) 6 87 06 16 67 benoit jaffres@gmail com',\n",
        " ' LANGUES Anglais courant',\n",
        " ' FORMATIONS 2020 cISCO MDS 2018 AWS Fundamentals 2009 EMC Control Center (EMC-CCM) 2009 HP FORMATION INTENSIVE AUX TECHNOLOGIES SAN (UC434S) 2007 Formation Veritas Cluster for UNIX 2005 Cisco CCNA 2005 Certification Solaris 9 (CX-310-014)',\n",
        " \" FORMATIONS INITIALES 2004 2005 Licence professionnelle ingénierie des réseaux informatique à luniversité de Nice Sophia Antipolis 2002 2004 BTS informatique de gestion option administrateur de réseaux locaux à I'IFA (Institut de Formation par Alternance) de la CCI (Chambre de Commerce et de l'Industrie) de Strasbourg 2000 2001 DAEU B (équivalent au BAC S par les cours du soir) à /ULP (Université Louis Pasteur) de Strasbourg 1994 1996 B.EP. et C.AP. de Couvreur Zingueur au sein des compagnons du devoir de Strasbourg et en apprentissage chez les couvreurs rhénans\"]\n",
        "\n"
      ],
      "metadata": {
        "id": "GHNDsIgAWw2n"
      },
      "execution_count": null,
      "outputs": []
    },
    {
      "cell_type": "code",
      "source": [
        "cvfinal = delrepetition(cv)"
      ],
      "metadata": {
        "id": "oiPDf_HaW4L9"
      },
      "execution_count": null,
      "outputs": []
    },
    {
      "cell_type": "code",
      "source": [
        "cvfinal"
      ],
      "metadata": {
        "colab": {
          "base_uri": "https://localhost:8080/"
        },
        "id": "mHtmBDDPW7GW",
        "outputId": "da8cbeed-7cd4-4982-c847-78b6751b4f79"
      },
      "execution_count": null,
      "outputs": [
        {
          "output_type": "execute_result",
          "data": {
            "text/plain": [
              "[' Mr. Benoît JAFFRES +33 (0) 6 87 06 16 67 benoit jaffres@gmail com Benoit JAFFRES Expert SAN, Stockage, Sauvegarde',\n",
              " ' COMPÉTENCES Techniques Baies des stockages EMC DMX VMAX2 VMAX3 PMAX, Clariion; Celerra ViPR VPLEX - Datadomain, HP EVA HPE 3PAR, DELL compellent; Netapp; Hitachi HDS VSP G1500 G5100, IBM DS8OOO V9ooo Reseaux SAN Brocade; CISCO MDS 9148S 9148T 9706 = 9710 Logiciels des sauvegardes IBM Tivoli Storage Manager; Netbackup; EMC Legato Networker Avamar, HP Data protector, TINA, VEEAM, Commvault Sauvegardes sur bandes StoragetekISUNIORACLE SL8500 SL5OO = L7OO L80 T10ooo 9840 LTO4, Quantum scalar i2000 i60oo OS Sun Solaris 8 = 9 10, IBM AIX 4.3 - 5.1 - 5.3 - 5.4 - 6.1, Linux redhat 4 - 5 - 6 - 7, HP HP-UX 10.00 11.00 11i, Windows 2000 = 2003 Server = 2008 = 2008 R2 = 2012 = 2016, Windows XP = 7 = 8 - 10, Centos, Vmware 5.5 6.0, MacOS Langages Shell',\n",
              " \" DOMAINES D'INTERVENTIONS Architecture Étude du cahier des charges; étude de faisabilité, étude des spécifications fonctionnels; validation des spécifications fonctionnelles et techniques . Conception d'infrastructures SANIStockagelSauvegarde, création des scénarios de test mise en place des POC, proposition de planning, création de documents de planification de test et de validation, rédaction du DAT. Rédaction de cahier des charges, rédaction de plan de migration; Gestion de budget. Gestion de planning et de plan de contribution des ressources. Pilotage de prestataires Gestion des livrables et des engagements Expertise technique Résolutions de problèmes complexes; audit des infrastructures SANIStockagelSauvegarde; déploiements multi sites_ Connaissance des règles de l'art techniques, analyse et recommandations d'amélioration; maitrise des méthodes, normes et outils standards de conception. Élaboration et déploiement de méthodologies de résolution; proposition de solutions et scénarii d'amélioration; analyse des documents techniques . Travail en collaboration avec les ingénieurs techniques et autres experts; maitrise des méthodes ITIL etlou agiles; animation de workshop; synthèse des méthodologies et connaissances à transmettre; échanges en anglais en contexte professionnel.\",\n",
              " ' Mr. Benoît JAFFRES +33 (0) 6 87 06 16 67 benoit jaffres@qmail com',\n",
              " \" EDF 07/2021 01/2021 eDF Architecte SAN CISCO Conception; qualification; installation et validation d'une nouveau réseau SAN CISCO. Élaboration; validation de la procédure de migration: Étude et validation des spécifications techniques et fonctionnels Elaboration du HLD (High Level Design) Création et validation des scénarios de test Élaboration et validation de la stratégie de migration SAN Rédaction des livrables Respect des engagements Accompagnement des développeurs API UTUI 06/2020 06/2021 Directeur général Activité e-Commerce, Marketing et vente en BtoC. Définition de la politique commerciale dun portefeuille de produits Élaboration et mise en œuvre de la stratégie marketing à court et moyen termes Arbitrage et allocation des moyens ressources Analyse des résultats et de la rentabilité des produits ou de l'entreprise par rapport aux objectifs Contrôle et synthèse des résultats des campagnes marketing et détermination de nouvelles orientations Sourcing de produits et sélection de fournisseurs Conception et rédaction de textes et d'argumentaires commerciaux Veille concurrentielle commerciale et technologique Élaboration de stratégies e-commerce Gestion des projets web en lien avec l'identité visuelle et sa déclinaison en termes de charte graphique 5 Oie ENEDIS 01/2019 05/2020\",\n",
              " ' En?Dis ENEDIS 01/2019 05/2020 LELECTRICITE EN RESEAU Architecte infrastructure Définition des solutions de SAN/Stockage et sauvegarde de la nouvelle infrastructure Cloud de Linky: Analyse des besoins Design des nouvelles solutions de SANIstockage et sauvegarde Réalisation de POCs, validation de larchitectures Mise en œuvre des infrastructures Travaux de design du CEPH (Software-Defined Storage) et des serveurs CISCO UCS',\n",
              " ' 3/8',\n",
              " ' @ Crédit-Agricole 12/2014 09/2015 Ingénieur SAN Stockage Au sein des équipes Stockage Open\" CA-Technologies; en charge du périmètre SAN Stockage. Maintien en condition opérationnel des infrastructures de stockage 2 sites, 8 baies VMAX-1 & 2, 26 Directors SAN Cisco MDS-9500 Support N2 des incidents et problèmes; relationslescalades auprès des constructeurs (EMC,Cisco) Suivis et contrôles sur le respect des normes et standards Rédaction ou mise à niveau des documents d\\'exploitation prise',\n",
              " ' SNCF 05/2017 _ 11/2017 SNCF Expert Stockage Expertise technique au sein du projet ROSES (Réorganisation des offres de stockage) de la SNCF. Migration de 54 baies vers une seule technologie de stockage EMC VMAX3 ALL-FLASH. Migration de données de stockage dans un contexte de forte hétérogénéité de stockages sources et dOS. Migration de SAN dans un contexte de forte hétérogénéité de réseaux sources Réalisation des copies par duplication des données coté serveur ou coté baie. Réalisation de pilotes de migration. KORIAN 10/2015 04/2017 KORIAN Architecte Stockage Sauvegarde Gestion des projets et consolidation des infrastructures de stockage; sauvegarde. Audit complet des infrastructures Sauvegarde et SAN Stockage Optimisation des infrastructures de Stockage Sauvegarde Gestion des contrats de maintenance logicielle et matérielle Gestion complète dun projet de sauvegarde de 400 sites distants Rédaction de RFI RFP Sélection des soumissionnaires Comparatif technique et financier des offres Déploiement de la solution',\n",
              " ' BPCE IT 12/2017 08/2018 BPCE Expert Stockage Expertise au sein de léquipe SAN du groupe BPCE Migration de toutes les baies SAN vers une seule technologie de stockage EMC VMAX3 ALL-FLASH. Analyse des besoins Design de la nouvelle solution de stockage Réalisation dun POC, validation de larchitecture Pilotage des opérations de migrations par loutil EMC NDM Rédaction des livrables Maintien en condition opérationnel des infrastructures de stockage historiques Reporting à la Direction de projet',\n",
              " ' Mr. Benoît JAFFRES +33 (0) 6 87 06 16 67 benoit jaffres@gmail com Eovi-mcd Mutuelle 11/2013 07/2014',\n",
              " \" Administration technique de Fensemble des infrastructures de sauvegarde. Audit complet de l'infrastructure Optimisation complète de l'infrastructure Étude de marché des nouvelles infrastructures de sauvegarde Préconisation des évolutions matérielles Mise en place des procédures de gestion et d'administration Optimisation de procédures existantes Gestion des incidents critiques Installation; optimisation; et mises à jour des modules TDP for VE (vmware) et Exchange Restauration de bases données Oracle 0\",\n",
              " \" Mr. Benoît JAFFRES +33 (0) 6 87 06 16 67 benoit jaffres@gmail com Eovi-mcd Mutuelle €eV'mcd Expert TSM\",\n",
              " \" British Telecom (BT) Services France 03/2013 10/2013 BT Expert SAN Stockage Sauvegarde Au sein de léquipe Experts SAN Stockage Sauvegarde de BT France; Prise en charge des problématiques SAN, stockage et sauvegarde pour BT et ses clients: Pilotage de projet, rénovation des infrastructures de sauvegardes NetWorker Scalar i6000 Préparation; mise en production et suivit des changements techniques liés à des problématiques SAN et NAS NetApp - EMC Clariion Analyse de performances stockage avec résolution et plan d'action associé NetApp EMC Clariion Expertise et analyse des incidents liés aux problématiques de sauvegarde EMC NetWorker Symantec Netbackup IBM TSM HP Dataprotector Atempo TINA Coordination du suivit des escalades fournisseurs Rédaction de Dossiers d'exploitation (DEX) Dossiers darchitecture (DAT) Rapports de faisabilités techniques (RFT) Request for Change (RFC) Rapports de prise en charge (PEC) CNAM CTI Rhône Alpes Auvergne (CTIRAA) 01/2013 02/2013 CNAM Expert UNIX Linux Au sein de léquipe Experts UNIX Linux du CTIRAA de la CNAM, projet de déploiement &'une nouvelle solution d'authentification des serveurs UNIX Linux. Pilotage de projet; mise en œuvre de compte nominatif et authentification par clé privé clé publique sur les serveurs AIX Linux Mise en œuvre et déploiement de la solution Scripting shell Rédaction de Dossiers dexploitation (DEX) Documentation utilisateurs\",\n",
              " \" CNAM CTI Rhône Alpes Auvergne (CTIRAA) 01/2013 02/2013 CNAM Expert UNIX Linux Au sein de Féquipe Experts UNIX Linux du CTIRAA de la CNAM, projet de déploiement dune nouvelle solution d'authentification des serveurs UNIX Linux. Pilotage de projet; mise en œuvre de compte nominatif et authentification par clé privé / clé publique sur les serveurs AIX Linux Mise en œuvre et déploiement de la solution Scripting shell Rédaction de Dossiers d'exploitation (DEX) Documentation utilisateurs\",\n",
              " ' Crédit-Agricole 07/2012 12/2012 @ Ingénieur SAN Stockage Au sein des équipes du projet NICE CA-Technologies, en charge du périmètre SAN _ Stockage: Administration technique des ressources de stockage sur 3 sites; 6 baies VMAX-1, 26 Directors SAN Cisco MDS-9500. Préparation, mise en production et suivit des changements techniques liés au stockage. Mise en œuvre des REX (Retours dexpériences) Rédaction ou mise à niveau des documents dexploitation. prise',\n",
              " \" GROuPE Zasino CASINO 02/2010 06/2012 NouRriR UN MONDE DE DiVeRSiTe Expert sauvegarde Au sein des équipes production CASINO, en charge du périmètre Sauvegarde: Gestion des infrastructures de sauvegarde (serveurs, librairies; baies, outils et réseaux de sauvegarde) Conception et mise en œuvre des évolutions de linfrastructure de sauvegarde. Réalisation des évolutions sur la politique et les architectures de sauvegarde. Expertise technique auprès des équipes projet. Rédaction de dossiers d'architecture. Appui technique aux projets applicatifs stratégiques . Rédaction de procédures techniques. Réalisation des tableaux de bord sur l'utilisation de la solution de sauvegarde et ses performances_ Industrialisation des processus Réalisation d'études de faisabilité (veille technologique, Suivit des nouvelles versions et corrections du logiciel de sauvegarde et réalisation des mises à jour. Réalisation du support de niveau 3 (résolution d'incidents; résolution de problèmes; préconisation d'améliorations) Préparation; mise en production et suivit des changements techniques liés au stockage. SNCF 11/2008 01/2010 SNCF Ingénieur SAN Stockage Au sein des équipes centrales SNCF d'administration; prise en charge du périmètre SAN & Stockage >_ Administration technique des ressources de stockage sur 3 sites, 3 baies HP EVA; 6 baies EMC, 60 switchs Brocade. Préparation; mise en production et suivit des changements techniques et applicatifs liés au stockage dédié. Analyse des performances et incidents avec résolution et plan daction associé. Coordination du suivit des incidents matériels pris en compte par la maintenance. Déploiement doutils d'administration et de suivi du périmètre Stockage. Mise en œuvre des REX (Retours dexpériences) Rédaction ou mise à niveau des documents dexploitation. prise\",\n",
              " \" Mr. Benoît JAFFRES +33 (0) 6 87 06 16 67 benoit jaffres@gmail com eRDF ERDF 01/2007 10/2008 ElCTiiciteAESe  Okthibuton Franc: Ingénieur système Unix Dans le cadre d'un projet d'infogérance: Administration de 170 serveurs sous Solaris 8,10 et AIX supportant notamment Oracle et Weblogic. Gestion des plateformes de production; pré-production et qualification. Gestion des mises en production des évolutions applicatives et techniques Support niveau 2 et 3 le traitement des incidents majeurs dans le cadre dune approche de type gestion de problèmes Support niveau 3 sur Solaris 8 et 10 pour l'équipe d'infogérance Traitement des incidents sur la chaine de production sous ControlM Analyse des logs Correction des défauts Relance éventuelle de la chaine Installation de nouveaux environnements systèmes et applicatifs. Configuration des Volumes Group via VxVM en environnement SAN HP Installation et configuration dun cluster Veritas Prise en charge de loutillage de sauvegarde Networker Définition des politiques de sauvegardeslrestitution Réalisation de tests de PRA techniques Développement de scripts danalyse du bon fonctionnement des sauvegardes sous Networker LA POSTE 05/2006 12/2006 La poste Ingénieur Système Unix) Dans le cadre dun projet de changement de plan &'adressage IP sur plus de 2000 serveurs. Analyse des contraintes systèmes et réseaux Réalisation d'un script dautomatisation pour les différents environnements Changement d'adressage IP pour les serveurs HP-UX 11i et Solaris 8 Installation et configuration de boitiers de déports de consoles (RARITAN) pour\",\n",
              " \" IBM 11/2005 04/2006 IGM Ingénieur TSM Au sein des équipes centrales IBM d'administration; prise en charge du périmètre sauvegarde TSM Support niveau 2 et niveau 3 sur l'infrastructure TSM Gestion des serveurs de sauvegarde en environnement AIX 5.3 Paramétrage de clients sous TSM pour Unix et Windows Installation et configuration dagent de sauvegarde pour les environnements SAN Installation de lagent de sauvegarde bases ouvertes (TDP)\",\n",
              " \" DELPHI mechatronic system 09/2002 09/2005 DELPAI Administrateur Unix Dans le cadre de Fadministration des infrastructures Unix: Installation de systèmes serveurs et clients sous AIX 5.1 et HP-UX 11i Installation de packages applicatifs Exploitation des serveurs Gestion des volumes logiques des serveurs Développement de script d'automatisation des tâches dadministration Gestion des droits utilisateurs Prise en charge de Fexploitation du système de sauvegarde: Installation de TSM 4.3 (serveur et client) sur AIX 5.1 Mise en place des politiques de sauvegarde avec les scheduler TSM Mise en place dune procédure d'archivage avec une partition logique Sauvegarde et restauration\",\n",
              " ' LANGUES Anglais courant',\n",
              " ' FORMATIONS 2020 cISCO MDS 2018 AWS Fundamentals 2009 EMC Control Center (EMC-CCM) 2009 HP FORMATION INTENSIVE AUX TECHNOLOGIES SAN (UC434S) 2007 Formation Veritas Cluster for UNIX 2005 Cisco CCNA 2005 Certification Solaris 9 (CX-310-014)',\n",
              " \" FORMATIONS INITIALES 2004 2005 Licence professionnelle ingénierie des réseaux informatique à luniversité de Nice Sophia Antipolis 2002 2004 BTS informatique de gestion option administrateur de réseaux locaux à I'IFA (Institut de Formation par Alternance) de la CCI (Chambre de Commerce et de l'Industrie) de Strasbourg 2000 2001 DAEU B (équivalent au BAC S par les cours du soir) à /ULP (Université Louis Pasteur) de Strasbourg 1994 1996 B.EP. et C.AP. de Couvreur Zingueur au sein des compagnons du devoir de Strasbourg et en apprentissage chez les couvreurs rhénans\"]"
            ]
          },
          "metadata": {},
          "execution_count": 22
        }
      ]
    },
    {
      "cell_type": "code",
      "source": [
        "import pickle \n",
        "model = pickle.load(open('/content/svm_model_final_pickle.pkl','rb'))\n",
        "y_pred = model.predict(cvfinal)\n",
        "print(y_pred)"
      ],
      "metadata": {
        "colab": {
          "base_uri": "https://localhost:8080/"
        },
        "id": "Ravu38zwW33p",
        "outputId": "403bae2e-ba38-4257-e8c4-a69479a39b61"
      },
      "execution_count": null,
      "outputs": [
        {
          "output_type": "stream",
          "name": "stdout",
          "text": [
            "['contact' 'competences' 'competences' 'contact' 'experience' 'experience'\n",
            " 'competences' 'experience' 'profil' 'experience' 'contact' 'experience'\n",
            " 'contact' 'experience' 'experience' 'experience' 'experience'\n",
            " 'experience' 'experience' 'experience' 'langues' 'formation' 'formation']\n"
          ]
        }
      ]
    },
    {
      "cell_type": "code",
      "source": [
        ""
      ],
      "metadata": {
        "id": "IWcx7WW2bhCf"
      },
      "execution_count": null,
      "outputs": []
    },
    {
      "cell_type": "code",
      "source": [
        "print(dict_create(cvfinal))"
      ],
      "metadata": {
        "colab": {
          "base_uri": "https://localhost:8080/"
        },
        "id": "3VyBm3lKfo0b",
        "outputId": "f120c786-aeb4-489d-ef21-8b70e27e667f"
      },
      "execution_count": null,
      "outputs": [
        {
          "output_type": "stream",
          "name": "stdout",
          "text": [
            "OrderedDict([('nom_prenom', ''), ('email', ''), ('phone_number', ''), ('contact', ' mr. benoît jaffres +33 (0) 6 87 06 16 67 benoit jaffres@gmail com benoit jaffres expert san, stockage, sauvegarde mr. benoît jaffres +33 (0) 6 87 06 16 67 benoit jaffres@qmail com mr. benoît jaffres +33 (0) 6 87 06 16 67 benoit jaffres@gmail com eovi-mcd mutuelle 11/2013 07/2014 mr. benoît jaffres +33 (0) 6 87 06 16 67 benoit jaffres@gmail com eovi-mcd mutuelle €evmcd expert tsm'), ('profil', ' sncf 05/2017 _ 11/2017 sncf expert stockage expertise technique au sein du projet roses (réorganisation des offres de stockage) de la sncf. migration de 54 baies vers une seule technologie de stockage emc vmax3 all-flash. migration de données de stockage dans un contexte de forte hétérogénéité de stockages sources et dos. migration de san dans un contexte de forte hétérogénéité de réseaux sources réalisation des copies par duplication des données coté serveur ou coté baie. réalisation de pilotes de migration. korian 10/2015 04/2017 korian architecte stockage sauvegarde gestion des projets et consolidation des infrastructures de stockage; sauvegarde. audit complet des infrastructures sauvegarde et san stockage optimisation des infrastructures de stockage sauvegarde gestion des contrats de maintenance logicielle et matérielle gestion complète dun projet de sauvegarde de 400 sites distants rédaction de rfi rfp sélection des soumissionnaires comparatif technique et financier des offres déploiement de la solution'), ('langues', ' langues anglais courant'), ('formation', ' formations 2020 cisco mds 2018 aws fundamentals 2009 emc control center (emc-ccm) 2009 hp formation intensive aux technologies san (uc434s) 2007 formation veritas cluster for unix 2005 cisco ccna 2005 certification solaris 9 (cx-310-014) formations initiales 2004 2005 licence professionnelle ingénierie des réseaux informatique à luniversité de nice sophia antipolis 2002 2004 bts informatique de gestion option administrateur de réseaux locaux à iifa (institut de formation par alternance) de la cci (chambre de commerce et de lindustrie) de strasbourg 2000 2001 daeu b (équivalent au bac s par les cours du soir) à /ulp (université louis pasteur) de strasbourg 1994 1996 b.ep. et c.ap. de couvreur zingueur au sein des compagnons du devoir de strasbourg et en apprentissage chez les couvreurs rhénans'), ('projets', ''), ('experience', ' edf 07/2021 01/2021 edf architecte san cisco conception; qualification; installation et validation dune nouveau réseau san cisco. élaboration; validation de la procédure de migration: étude et validation des spécifications techniques et fonctionnels elaboration du hld (high level design) création et validation des scénarios de test élaboration et validation de la stratégie de migration san rédaction des livrables respect des engagements accompagnement des développeurs api utui 06/2020 06/2021 directeur général activité e-commerce, marketing et vente en btoc. définition de la politique commerciale dun portefeuille de produits élaboration et mise en œuvre de la stratégie marketing à court et moyen termes arbitrage et allocation des moyens ressources analyse des résultats et de la rentabilité des produits ou de lentreprise par rapport aux objectifs contrôle et synthèse des résultats des campagnes marketing et détermination de nouvelles orientations sourcing de produits et sélection de fournisseurs conception et rédaction de textes et dargumentaires commerciaux veille concurrentielle commerciale et technologique élaboration de stratégies e-commerce gestion des projets web en lien avec lidentité visuelle et sa déclinaison en termes de charte graphique 5 oie enedis 01/2019 05/2020 en?dis enedis 01/2019 05/2020 lelectricite en reseau architecte infrastructure définition des solutions de san/stockage et sauvegarde de la nouvelle infrastructure cloud de linky: analyse des besoins design des nouvelles solutions de sanistockage et sauvegarde réalisation de pocs, validation de larchitectures mise en œuvre des infrastructures travaux de design du ceph (software-defined storage) et des serveurs cisco ucs @ crédit-agricole 12/2014 09/2015 ingénieur san stockage au sein des équipes stockage open\" ca-technologies; en charge du périmètre san stockage. maintien en condition opérationnel des infrastructures de stockage 2 sites, 8 baies vmax-1 & 2, 26 directors san cisco mds-9500 support n2 des incidents et problèmes; relationslescalades auprès des constructeurs (emc,cisco) suivis et contrôles sur le respect des normes et standards rédaction ou mise à niveau des documents dexploitation prise bpce it 12/2017 08/2018 bpce expert stockage expertise au sein de léquipe san du groupe bpce migration de toutes les baies san vers une seule technologie de stockage emc vmax3 all-flash. analyse des besoins design de la nouvelle solution de stockage réalisation dun poc, validation de larchitecture pilotage des opérations de migrations par loutil emc ndm rédaction des livrables maintien en condition opérationnel des infrastructures de stockage historiques reporting à la direction de projet administration technique de fensemble des infrastructures de sauvegarde. audit complet de linfrastructure optimisation complète de linfrastructure étude de marché des nouvelles infrastructures de sauvegarde préconisation des évolutions matérielles mise en place des procédures de gestion et dadministration optimisation de procédures existantes gestion des incidents critiques installation; optimisation; et mises à jour des modules tdp for ve (vmware) et exchange restauration de bases données oracle 0 british telecom (bt) services france 03/2013 10/2013 bt expert san stockage sauvegarde au sein de léquipe experts san stockage sauvegarde de bt france; prise en charge des problématiques san, stockage et sauvegarde pour bt et ses clients: pilotage de projet, rénovation des infrastructures de sauvegardes networker scalar i6000 préparation; mise en production et suivit des changements techniques liés à des problématiques san et nas netapp - emc clariion analyse de performances stockage avec résolution et plan daction associé netapp emc clariion expertise et analyse des incidents liés aux problématiques de sauvegarde emc networker symantec netbackup ibm tsm hp dataprotector atempo tina coordination du suivit des escalades fournisseurs rédaction de dossiers dexploitation (dex) dossiers darchitecture (dat) rapports de faisabilités techniques (rft) request for change (rfc) rapports de prise en charge (pec) cnam cti rhône alpes auvergne (ctiraa) 01/2013 02/2013 cnam expert unix linux au sein de léquipe experts unix linux du ctiraa de la cnam, projet de déploiement &une nouvelle solution dauthentification des serveurs unix linux. pilotage de projet; mise en œuvre de compte nominatif et authentification par clé privé clé publique sur les serveurs aix linux mise en œuvre et déploiement de la solution scripting shell rédaction de dossiers dexploitation (dex) documentation utilisateurs cnam cti rhône alpes auvergne (ctiraa) 01/2013 02/2013 cnam expert unix linux au sein de féquipe experts unix linux du ctiraa de la cnam, projet de déploiement dune nouvelle solution dauthentification des serveurs unix linux. pilotage de projet; mise en œuvre de compte nominatif et authentification par clé privé / clé publique sur les serveurs aix linux mise en œuvre et déploiement de la solution scripting shell rédaction de dossiers dexploitation (dex) documentation utilisateurs crédit-agricole 07/2012 12/2012 @ ingénieur san stockage au sein des équipes du projet nice ca-technologies, en charge du périmètre san _ stockage: administration technique des ressources de stockage sur 3 sites; 6 baies vmax-1, 26 directors san cisco mds-9500. préparation, mise en production et suivit des changements techniques liés au stockage. mise en œuvre des rex (retours dexpériences) rédaction ou mise à niveau des documents dexploitation. prise groupe zasino casino 02/2010 06/2012 nourrir un monde de diversite expert sauvegarde au sein des équipes production casino, en charge du périmètre sauvegarde: gestion des infrastructures de sauvegarde (serveurs, librairies; baies, outils et réseaux de sauvegarde) conception et mise en œuvre des évolutions de linfrastructure de sauvegarde. réalisation des évolutions sur la politique et les architectures de sauvegarde. expertise technique auprès des équipes projet. rédaction de dossiers darchitecture. appui technique aux projets applicatifs stratégiques . rédaction de procédures techniques. réalisation des tableaux de bord sur lutilisation de la solution de sauvegarde et ses performances_ industrialisation des processus réalisation détudes de faisabilité (veille technologique, suivit des nouvelles versions et corrections du logiciel de sauvegarde et réalisation des mises à jour. réalisation du support de niveau 3 (résolution dincidents; résolution de problèmes; préconisation daméliorations) préparation; mise en production et suivit des changements techniques liés au stockage. sncf 11/2008 01/2010 sncf ingénieur san stockage au sein des équipes centrales sncf dadministration; prise en charge du périmètre san & stockage >_ administration technique des ressources de stockage sur 3 sites, 3 baies hp eva; 6 baies emc, 60 switchs brocade. préparation; mise en production et suivit des changements techniques et applicatifs liés au stockage dédié. analyse des performances et incidents avec résolution et plan daction associé. coordination du suivit des incidents matériels pris en compte par la maintenance. déploiement doutils dadministration et de suivi du périmètre stockage. mise en œuvre des rex (retours dexpériences) rédaction ou mise à niveau des documents dexploitation. prise mr. benoît jaffres +33 (0) 6 87 06 16 67 benoit jaffres@gmail com erdf erdf 01/2007 10/2008 elctiiciteaese  okthibuton franc: ingénieur système unix dans le cadre dun projet dinfogérance: administration de 170 serveurs sous solaris 8,10 et aix supportant notamment oracle et weblogic. gestion des plateformes de production; pré-production et qualification. gestion des mises en production des évolutions applicatives et techniques support niveau 2 et 3 le traitement des incidents majeurs dans le cadre dune approche de type gestion de problèmes support niveau 3 sur solaris 8 et 10 pour léquipe dinfogérance traitement des incidents sur la chaine de production sous controlm analyse des logs correction des défauts relance éventuelle de la chaine installation de nouveaux environnements systèmes et applicatifs. configuration des volumes group via vxvm en environnement san hp installation et configuration dun cluster veritas prise en charge de loutillage de sauvegarde networker définition des politiques de sauvegardeslrestitution réalisation de tests de pra techniques développement de scripts danalyse du bon fonctionnement des sauvegardes sous networker la poste 05/2006 12/2006 la poste ingénieur système unix) dans le cadre dun projet de changement de plan &adressage ip sur plus de 2000 serveurs. analyse des contraintes systèmes et réseaux réalisation dun script dautomatisation pour les différents environnements changement dadressage ip pour les serveurs hp-ux 11i et solaris 8 installation et configuration de boitiers de déports de consoles (raritan) pour ibm 11/2005 04/2006 igm ingénieur tsm au sein des équipes centrales ibm dadministration; prise en charge du périmètre sauvegarde tsm support niveau 2 et niveau 3 sur linfrastructure tsm gestion des serveurs de sauvegarde en environnement aix 5.3 paramétrage de clients sous tsm pour unix et windows installation et configuration dagent de sauvegarde pour les environnements san installation de lagent de sauvegarde bases ouvertes (tdp) delphi mechatronic system 09/2002 09/2005 delpai administrateur unix dans le cadre de fadministration des infrastructures unix: installation de systèmes serveurs et clients sous aix 5.1 et hp-ux 11i installation de packages applicatifs exploitation des serveurs gestion des volumes logiques des serveurs développement de script dautomatisation des tâches dadministration gestion des droits utilisateurs prise en charge de fexploitation du système de sauvegarde: installation de tsm 4.3 (serveur et client) sur aix 5.1 mise en place des politiques de sauvegarde avec les scheduler tsm mise en place dune procédure darchivage avec une partition logique sauvegarde et restauration'), ('competences', ' compétences techniques baies des stockages emc dmx vmax2 vmax3 pmax, clariion; celerra vipr vplex - datadomain, hp eva hpe 3par, dell compellent; netapp; hitachi hds vsp g1500 g5100, ibm ds8ooo v9ooo reseaux san brocade; cisco mds 9148s 9148t 9706 = 9710 logiciels des sauvegardes ibm tivoli storage manager; netbackup; emc legato networker avamar, hp data protector, tina, veeam, commvault sauvegardes sur bandes storagetekisunioracle sl8500 sl5oo = l7oo l80 t10ooo 9840 lto4, quantum scalar i2000 i60oo os sun solaris 8 = 9 10, ibm aix 4.3 - 5.1 - 5.3 - 5.4 - 6.1, linux redhat 4 - 5 - 6 - 7, hp hp-ux 10.00 11.00 11i, windows 2000 = 2003 server = 2008 = 2008 r2 = 2012 = 2016, windows xp = 7 = 8 - 10, centos, vmware 5.5 6.0, macos langages shell domaines dinterventions architecture étude du cahier des charges; étude de faisabilité, étude des spécifications fonctionnels; validation des spécifications fonctionnelles et techniques . conception dinfrastructures sanistockagelsauvegarde, création des scénarios de test mise en place des poc, proposition de planning, création de documents de planification de test et de validation, rédaction du dat. rédaction de cahier des charges, rédaction de plan de migration; gestion de budget. gestion de planning et de plan de contribution des ressources. pilotage de prestataires gestion des livrables et des engagements expertise technique résolutions de problèmes complexes; audit des infrastructures sanistockagelsauvegarde; déploiements multi sites_ connaissance des règles de lart techniques, analyse et recommandations damélioration; maitrise des méthodes, normes et outils standards de conception. élaboration et déploiement de méthodologies de résolution; proposition de solutions et scénarii damélioration; analyse des documents techniques . travail en collaboration avec les ingénieurs techniques et autres experts; maitrise des méthodes itil etlou agiles; animation de workshop; synthèse des méthodologies et connaissances à transmettre; échanges en anglais en contexte professionnel. 3/8'), ('autres', '')])\n"
          ]
        }
      ]
    },
    {
      "cell_type": "code",
      "source": [
        ""
      ],
      "metadata": {
        "id": "oK9W6d4Mfdfs"
      },
      "execution_count": null,
      "outputs": []
    },
    {
      "cell_type": "code",
      "source": [
        "import pandas as pd"
      ],
      "metadata": {
        "id": "pCoE5QuWcCPh"
      },
      "execution_count": null,
      "outputs": []
    },
    {
      "cell_type": "code",
      "source": [
        "import pickle \n",
        "\n",
        "model = pickle.load(open('/content/drive/MyDrive/PFE2/svm_model_final_pickle.pkl','rb'))\n",
        "CV_dict_predicted1 = OrderedDict({\n",
        "  \"nom_prenom\":\"\",\n",
        "  \"email\":\"\",\n",
        "  \"phone_number\":\"\",  \n",
        "  \"contact\": \"\",\n",
        "  \"profil\" : \"\",\n",
        "  \"langues\" : \"\",\n",
        "  \"formation\" : \"\",\n",
        "  \"projets\" : \"\",\n",
        "  \"experience\" : \"\",\n",
        "  \"competences\": \"\",\n",
        "  \"autres\": \"\"\n",
        "})\n",
        "predicted_label=\"\"\n",
        "for i in cvfinal:\n",
        "  liste=[]\n",
        "  liste.append(i)\n",
        "  #ser = pd.Series(list)\n",
        "  #predicted_label = str(model.predict(ser)[0])\n",
        "  predicted_label = str(model.predict(pd.Series(liste))[0])\n",
        "  i=i.replace(\"'\",\"\")\n",
        "  CV_dict_predicted1[predicted_label] += str.lower(i)"
      ],
      "metadata": {
        "id": "g2_sl6Qcbgz4"
      },
      "execution_count": null,
      "outputs": []
    },
    {
      "cell_type": "code",
      "source": [
        "CV_dict_predicted1"
      ],
      "metadata": {
        "colab": {
          "base_uri": "https://localhost:8080/"
        },
        "id": "AcddtyZCbgu6",
        "outputId": "6ecd5b44-7718-4e63-9db6-4659d9d2c93d"
      },
      "execution_count": null,
      "outputs": [
        {
          "output_type": "execute_result",
          "data": {
            "text/plain": [
              "OrderedDict([('nom_prenom', ''),\n",
              "             ('email', ''),\n",
              "             ('phone_number', ''),\n",
              "             ('contact',\n",
              "              ' mr. benoît jaffres +33 (0) 6 87 06 16 67 benoit jaffres@gmail com benoit jaffres expert san, stockage, sauvegarde mr. benoît jaffres +33 (0) 6 87 06 16 67 benoit jaffres@qmail com mr. benoît jaffres +33 (0) 6 87 06 16 67 benoit jaffres@gmail com eovi-mcd mutuelle 11/2013 07/2014 mr. benoît jaffres +33 (0) 6 87 06 16 67 benoit jaffres@gmail com eovi-mcd mutuelle €evmcd expert tsm'),\n",
              "             ('profil',\n",
              "              ' sncf 05/2017 _ 11/2017 sncf expert stockage expertise technique au sein du projet roses (réorganisation des offres de stockage) de la sncf. migration de 54 baies vers une seule technologie de stockage emc vmax3 all-flash. migration de données de stockage dans un contexte de forte hétérogénéité de stockages sources et dos. migration de san dans un contexte de forte hétérogénéité de réseaux sources réalisation des copies par duplication des données coté serveur ou coté baie. réalisation de pilotes de migration. korian 10/2015 04/2017 korian architecte stockage sauvegarde gestion des projets et consolidation des infrastructures de stockage; sauvegarde. audit complet des infrastructures sauvegarde et san stockage optimisation des infrastructures de stockage sauvegarde gestion des contrats de maintenance logicielle et matérielle gestion complète dun projet de sauvegarde de 400 sites distants rédaction de rfi rfp sélection des soumissionnaires comparatif technique et financier des offres déploiement de la solution'),\n",
              "             ('langues', ' langues anglais courant'),\n",
              "             ('formation',\n",
              "              ' formations 2020 cisco mds 2018 aws fundamentals 2009 emc control center (emc-ccm) 2009 hp formation intensive aux technologies san (uc434s) 2007 formation veritas cluster for unix 2005 cisco ccna 2005 certification solaris 9 (cx-310-014) formations initiales 2004 2005 licence professionnelle ingénierie des réseaux informatique à luniversité de nice sophia antipolis 2002 2004 bts informatique de gestion option administrateur de réseaux locaux à iifa (institut de formation par alternance) de la cci (chambre de commerce et de lindustrie) de strasbourg 2000 2001 daeu b (équivalent au bac s par les cours du soir) à /ulp (université louis pasteur) de strasbourg 1994 1996 b.ep. et c.ap. de couvreur zingueur au sein des compagnons du devoir de strasbourg et en apprentissage chez les couvreurs rhénans'),\n",
              "             ('projets', ''),\n",
              "             ('experience',\n",
              "              ' edf 07/2021 01/2021 edf architecte san cisco conception; qualification; installation et validation dune nouveau réseau san cisco. élaboration; validation de la procédure de migration: étude et validation des spécifications techniques et fonctionnels elaboration du hld (high level design) création et validation des scénarios de test élaboration et validation de la stratégie de migration san rédaction des livrables respect des engagements accompagnement des développeurs api utui 06/2020 06/2021 directeur général activité e-commerce, marketing et vente en btoc. définition de la politique commerciale dun portefeuille de produits élaboration et mise en œuvre de la stratégie marketing à court et moyen termes arbitrage et allocation des moyens ressources analyse des résultats et de la rentabilité des produits ou de lentreprise par rapport aux objectifs contrôle et synthèse des résultats des campagnes marketing et détermination de nouvelles orientations sourcing de produits et sélection de fournisseurs conception et rédaction de textes et dargumentaires commerciaux veille concurrentielle commerciale et technologique élaboration de stratégies e-commerce gestion des projets web en lien avec lidentité visuelle et sa déclinaison en termes de charte graphique 5 oie enedis 01/2019 05/2020 en?dis enedis 01/2019 05/2020 lelectricite en reseau architecte infrastructure définition des solutions de san/stockage et sauvegarde de la nouvelle infrastructure cloud de linky: analyse des besoins design des nouvelles solutions de sanistockage et sauvegarde réalisation de pocs, validation de larchitectures mise en œuvre des infrastructures travaux de design du ceph (software-defined storage) et des serveurs cisco ucs @ crédit-agricole 12/2014 09/2015 ingénieur san stockage au sein des équipes stockage open\" ca-technologies; en charge du périmètre san stockage. maintien en condition opérationnel des infrastructures de stockage 2 sites, 8 baies vmax-1 & 2, 26 directors san cisco mds-9500 support n2 des incidents et problèmes; relationslescalades auprès des constructeurs (emc,cisco) suivis et contrôles sur le respect des normes et standards rédaction ou mise à niveau des documents dexploitation prise bpce it 12/2017 08/2018 bpce expert stockage expertise au sein de léquipe san du groupe bpce migration de toutes les baies san vers une seule technologie de stockage emc vmax3 all-flash. analyse des besoins design de la nouvelle solution de stockage réalisation dun poc, validation de larchitecture pilotage des opérations de migrations par loutil emc ndm rédaction des livrables maintien en condition opérationnel des infrastructures de stockage historiques reporting à la direction de projet administration technique de fensemble des infrastructures de sauvegarde. audit complet de linfrastructure optimisation complète de linfrastructure étude de marché des nouvelles infrastructures de sauvegarde préconisation des évolutions matérielles mise en place des procédures de gestion et dadministration optimisation de procédures existantes gestion des incidents critiques installation; optimisation; et mises à jour des modules tdp for ve (vmware) et exchange restauration de bases données oracle 0 british telecom (bt) services france 03/2013 10/2013 bt expert san stockage sauvegarde au sein de léquipe experts san stockage sauvegarde de bt france; prise en charge des problématiques san, stockage et sauvegarde pour bt et ses clients: pilotage de projet, rénovation des infrastructures de sauvegardes networker scalar i6000 préparation; mise en production et suivit des changements techniques liés à des problématiques san et nas netapp - emc clariion analyse de performances stockage avec résolution et plan daction associé netapp emc clariion expertise et analyse des incidents liés aux problématiques de sauvegarde emc networker symantec netbackup ibm tsm hp dataprotector atempo tina coordination du suivit des escalades fournisseurs rédaction de dossiers dexploitation (dex) dossiers darchitecture (dat) rapports de faisabilités techniques (rft) request for change (rfc) rapports de prise en charge (pec) cnam cti rhône alpes auvergne (ctiraa) 01/2013 02/2013 cnam expert unix linux au sein de léquipe experts unix linux du ctiraa de la cnam, projet de déploiement &une nouvelle solution dauthentification des serveurs unix linux. pilotage de projet; mise en œuvre de compte nominatif et authentification par clé privé clé publique sur les serveurs aix linux mise en œuvre et déploiement de la solution scripting shell rédaction de dossiers dexploitation (dex) documentation utilisateurs cnam cti rhône alpes auvergne (ctiraa) 01/2013 02/2013 cnam expert unix linux au sein de féquipe experts unix linux du ctiraa de la cnam, projet de déploiement dune nouvelle solution dauthentification des serveurs unix linux. pilotage de projet; mise en œuvre de compte nominatif et authentification par clé privé / clé publique sur les serveurs aix linux mise en œuvre et déploiement de la solution scripting shell rédaction de dossiers dexploitation (dex) documentation utilisateurs crédit-agricole 07/2012 12/2012 @ ingénieur san stockage au sein des équipes du projet nice ca-technologies, en charge du périmètre san _ stockage: administration technique des ressources de stockage sur 3 sites; 6 baies vmax-1, 26 directors san cisco mds-9500. préparation, mise en production et suivit des changements techniques liés au stockage. mise en œuvre des rex (retours dexpériences) rédaction ou mise à niveau des documents dexploitation. prise groupe zasino casino 02/2010 06/2012 nourrir un monde de diversite expert sauvegarde au sein des équipes production casino, en charge du périmètre sauvegarde: gestion des infrastructures de sauvegarde (serveurs, librairies; baies, outils et réseaux de sauvegarde) conception et mise en œuvre des évolutions de linfrastructure de sauvegarde. réalisation des évolutions sur la politique et les architectures de sauvegarde. expertise technique auprès des équipes projet. rédaction de dossiers darchitecture. appui technique aux projets applicatifs stratégiques . rédaction de procédures techniques. réalisation des tableaux de bord sur lutilisation de la solution de sauvegarde et ses performances_ industrialisation des processus réalisation détudes de faisabilité (veille technologique, suivit des nouvelles versions et corrections du logiciel de sauvegarde et réalisation des mises à jour. réalisation du support de niveau 3 (résolution dincidents; résolution de problèmes; préconisation daméliorations) préparation; mise en production et suivit des changements techniques liés au stockage. sncf 11/2008 01/2010 sncf ingénieur san stockage au sein des équipes centrales sncf dadministration; prise en charge du périmètre san & stockage >_ administration technique des ressources de stockage sur 3 sites, 3 baies hp eva; 6 baies emc, 60 switchs brocade. préparation; mise en production et suivit des changements techniques et applicatifs liés au stockage dédié. analyse des performances et incidents avec résolution et plan daction associé. coordination du suivit des incidents matériels pris en compte par la maintenance. déploiement doutils dadministration et de suivi du périmètre stockage. mise en œuvre des rex (retours dexpériences) rédaction ou mise à niveau des documents dexploitation. prise mr. benoît jaffres +33 (0) 6 87 06 16 67 benoit jaffres@gmail com erdf erdf 01/2007 10/2008 elctiiciteaese  okthibuton franc: ingénieur système unix dans le cadre dun projet dinfogérance: administration de 170 serveurs sous solaris 8,10 et aix supportant notamment oracle et weblogic. gestion des plateformes de production; pré-production et qualification. gestion des mises en production des évolutions applicatives et techniques support niveau 2 et 3 le traitement des incidents majeurs dans le cadre dune approche de type gestion de problèmes support niveau 3 sur solaris 8 et 10 pour léquipe dinfogérance traitement des incidents sur la chaine de production sous controlm analyse des logs correction des défauts relance éventuelle de la chaine installation de nouveaux environnements systèmes et applicatifs. configuration des volumes group via vxvm en environnement san hp installation et configuration dun cluster veritas prise en charge de loutillage de sauvegarde networker définition des politiques de sauvegardeslrestitution réalisation de tests de pra techniques développement de scripts danalyse du bon fonctionnement des sauvegardes sous networker la poste 05/2006 12/2006 la poste ingénieur système unix) dans le cadre dun projet de changement de plan &adressage ip sur plus de 2000 serveurs. analyse des contraintes systèmes et réseaux réalisation dun script dautomatisation pour les différents environnements changement dadressage ip pour les serveurs hp-ux 11i et solaris 8 installation et configuration de boitiers de déports de consoles (raritan) pour ibm 11/2005 04/2006 igm ingénieur tsm au sein des équipes centrales ibm dadministration; prise en charge du périmètre sauvegarde tsm support niveau 2 et niveau 3 sur linfrastructure tsm gestion des serveurs de sauvegarde en environnement aix 5.3 paramétrage de clients sous tsm pour unix et windows installation et configuration dagent de sauvegarde pour les environnements san installation de lagent de sauvegarde bases ouvertes (tdp) delphi mechatronic system 09/2002 09/2005 delpai administrateur unix dans le cadre de fadministration des infrastructures unix: installation de systèmes serveurs et clients sous aix 5.1 et hp-ux 11i installation de packages applicatifs exploitation des serveurs gestion des volumes logiques des serveurs développement de script dautomatisation des tâches dadministration gestion des droits utilisateurs prise en charge de fexploitation du système de sauvegarde: installation de tsm 4.3 (serveur et client) sur aix 5.1 mise en place des politiques de sauvegarde avec les scheduler tsm mise en place dune procédure darchivage avec une partition logique sauvegarde et restauration'),\n",
              "             ('competences',\n",
              "              ' compétences techniques baies des stockages emc dmx vmax2 vmax3 pmax, clariion; celerra vipr vplex - datadomain, hp eva hpe 3par, dell compellent; netapp; hitachi hds vsp g1500 g5100, ibm ds8ooo v9ooo reseaux san brocade; cisco mds 9148s 9148t 9706 = 9710 logiciels des sauvegardes ibm tivoli storage manager; netbackup; emc legato networker avamar, hp data protector, tina, veeam, commvault sauvegardes sur bandes storagetekisunioracle sl8500 sl5oo = l7oo l80 t10ooo 9840 lto4, quantum scalar i2000 i60oo os sun solaris 8 = 9 10, ibm aix 4.3 - 5.1 - 5.3 - 5.4 - 6.1, linux redhat 4 - 5 - 6 - 7, hp hp-ux 10.00 11.00 11i, windows 2000 = 2003 server = 2008 = 2008 r2 = 2012 = 2016, windows xp = 7 = 8 - 10, centos, vmware 5.5 6.0, macos langages shell domaines dinterventions architecture étude du cahier des charges; étude de faisabilité, étude des spécifications fonctionnels; validation des spécifications fonctionnelles et techniques . conception dinfrastructures sanistockagelsauvegarde, création des scénarios de test mise en place des poc, proposition de planning, création de documents de planification de test et de validation, rédaction du dat. rédaction de cahier des charges, rédaction de plan de migration; gestion de budget. gestion de planning et de plan de contribution des ressources. pilotage de prestataires gestion des livrables et des engagements expertise technique résolutions de problèmes complexes; audit des infrastructures sanistockagelsauvegarde; déploiements multi sites_ connaissance des règles de lart techniques, analyse et recommandations damélioration; maitrise des méthodes, normes et outils standards de conception. élaboration et déploiement de méthodologies de résolution; proposition de solutions et scénarii damélioration; analyse des documents techniques . travail en collaboration avec les ingénieurs techniques et autres experts; maitrise des méthodes itil etlou agiles; animation de workshop; synthèse des méthodologies et connaissances à transmettre; échanges en anglais en contexte professionnel. 3/8'),\n",
              "             ('autres', '')])"
            ]
          },
          "metadata": {},
          "execution_count": 20
        }
      ]
    },
    {
      "cell_type": "code",
      "source": [
        ""
      ],
      "metadata": {
        "id": "sOhHkQhMbgsG"
      },
      "execution_count": null,
      "outputs": []
    },
    {
      "cell_type": "code",
      "source": [
        ""
      ],
      "metadata": {
        "id": "XVmDf0ombgpk"
      },
      "execution_count": null,
      "outputs": []
    },
    {
      "cell_type": "code",
      "source": [
        "import json \n",
        "      \n",
        "# Data to be written \n",
        "dictionary = CV_dict_predicted1\n",
        "      \n",
        "# Serializing json  \n",
        "json_object = json.dumps(dictionary, indent = 4) \n",
        "print(json_object)"
      ],
      "metadata": {
        "colab": {
          "base_uri": "https://localhost:8080/"
        },
        "id": "WyoPRiTDaGRA",
        "outputId": "ba26674c-fd0c-48a1-ec31-2399966835eb"
      },
      "execution_count": null,
      "outputs": [
        {
          "output_type": "stream",
          "name": "stdout",
          "text": [
            "{\n",
            "    \"nom_prenom\": \"\",\n",
            "    \"email\": \"\",\n",
            "    \"phone_number\": \"\",\n",
            "    \"contact\": \" mr. beno\\u00eet jaffres +33 (0) 6 87 06 16 67 benoit jaffres@gmail com benoit jaffres expert san, stockage, sauvegarde mr. beno\\u00eet jaffres +33 (0) 6 87 06 16 67 benoit jaffres@qmail com mr. beno\\u00eet jaffres +33 (0) 6 87 06 16 67 benoit jaffres@gmail com eovi-mcd mutuelle 11/2013 07/2014 mr. beno\\u00eet jaffres +33 (0) 6 87 06 16 67 benoit jaffres@gmail com eovi-mcd mutuelle \\u20acevmcd expert tsm\",\n",
            "    \"profil\": \" sncf 05/2017 _ 11/2017 sncf expert stockage expertise technique au sein du projet roses (r\\u00e9organisation des offres de stockage) de la sncf. migration de 54 baies vers une seule technologie de stockage emc vmax3 all-flash. migration de donn\\u00e9es de stockage dans un contexte de forte h\\u00e9t\\u00e9rog\\u00e9n\\u00e9it\\u00e9 de stockages sources et dos. migration de san dans un contexte de forte h\\u00e9t\\u00e9rog\\u00e9n\\u00e9it\\u00e9 de r\\u00e9seaux sources r\\u00e9alisation des copies par duplication des donn\\u00e9es cot\\u00e9 serveur ou cot\\u00e9 baie. r\\u00e9alisation de pilotes de migration. korian 10/2015 04/2017 korian architecte stockage sauvegarde gestion des projets et consolidation des infrastructures de stockage; sauvegarde. audit complet des infrastructures sauvegarde et san stockage optimisation des infrastructures de stockage sauvegarde gestion des contrats de maintenance logicielle et mat\\u00e9rielle gestion compl\\u00e8te dun projet de sauvegarde de 400 sites distants r\\u00e9daction de rfi rfp s\\u00e9lection des soumissionnaires comparatif technique et financier des offres d\\u00e9ploiement de la solution\",\n",
            "    \"langues\": \" langues anglais courant\",\n",
            "    \"formation\": \" formations 2020 cisco mds 2018 aws fundamentals 2009 emc control center (emc-ccm) 2009 hp formation intensive aux technologies san (uc434s) 2007 formation veritas cluster for unix 2005 cisco ccna 2005 certification solaris 9 (cx-310-014) formations initiales 2004 2005 licence professionnelle ing\\u00e9nierie des r\\u00e9seaux informatique \\u00e0 luniversit\\u00e9 de nice sophia antipolis 2002 2004 bts informatique de gestion option administrateur de r\\u00e9seaux locaux \\u00e0 iifa (institut de formation par alternance) de la cci (chambre de commerce et de lindustrie) de strasbourg 2000 2001 daeu b (\\u00e9quivalent au bac s par les cours du soir) \\u00e0 /ulp (universit\\u00e9 louis pasteur) de strasbourg 1994 1996 b.ep. et c.ap. de couvreur zingueur au sein des compagnons du devoir de strasbourg et en apprentissage chez les couvreurs rh\\u00e9nans\",\n",
            "    \"projets\": \"\",\n",
            "    \"experience\": \" edf 07/2021 01/2021 edf architecte san cisco conception; qualification; installation et validation dune nouveau r\\u00e9seau san cisco. \\u00e9laboration; validation de la proc\\u00e9dure de migration: \\u00e9tude et validation des sp\\u00e9cifications techniques et fonctionnels elaboration du hld (high level design) cr\\u00e9ation et validation des sc\\u00e9narios de test \\u00e9laboration et validation de la strat\\u00e9gie de migration san r\\u00e9daction des livrables respect des engagements accompagnement des d\\u00e9veloppeurs api utui 06/2020 06/2021 directeur g\\u00e9n\\u00e9ral activit\\u00e9 e-commerce, marketing et vente en btoc. d\\u00e9finition de la politique commerciale dun portefeuille de produits \\u00e9laboration et mise en \\u0153uvre de la strat\\u00e9gie marketing \\u00e0 court et moyen termes arbitrage et allocation des moyens ressources analyse des r\\u00e9sultats et de la rentabilit\\u00e9 des produits ou de lentreprise par rapport aux objectifs contr\\u00f4le et synth\\u00e8se des r\\u00e9sultats des campagnes marketing et d\\u00e9termination de nouvelles orientations sourcing de produits et s\\u00e9lection de fournisseurs conception et r\\u00e9daction de textes et dargumentaires commerciaux veille concurrentielle commerciale et technologique \\u00e9laboration de strat\\u00e9gies e-commerce gestion des projets web en lien avec lidentit\\u00e9 visuelle et sa d\\u00e9clinaison en termes de charte graphique 5 oie enedis 01/2019 05/2020 en?dis enedis 01/2019 05/2020 lelectricite en reseau architecte infrastructure d\\u00e9finition des solutions de san/stockage et sauvegarde de la nouvelle infrastructure cloud de linky: analyse des besoins design des nouvelles solutions de sanistockage et sauvegarde r\\u00e9alisation de pocs, validation de larchitectures mise en \\u0153uvre des infrastructures travaux de design du ceph (software-defined storage) et des serveurs cisco ucs @ cr\\u00e9dit-agricole 12/2014 09/2015 ing\\u00e9nieur san stockage au sein des \\u00e9quipes stockage open\\\" ca-technologies; en charge du p\\u00e9rim\\u00e8tre san stockage. maintien en condition op\\u00e9rationnel des infrastructures de stockage 2 sites, 8 baies vmax-1 & 2, 26 directors san cisco mds-9500 support n2 des incidents et probl\\u00e8mes; relationslescalades aupr\\u00e8s des constructeurs (emc,cisco) suivis et contr\\u00f4les sur le respect des normes et standards r\\u00e9daction ou mise \\u00e0 niveau des documents dexploitation prise bpce it 12/2017 08/2018 bpce expert stockage expertise au sein de l\\u00e9quipe san du groupe bpce migration de toutes les baies san vers une seule technologie de stockage emc vmax3 all-flash. analyse des besoins design de la nouvelle solution de stockage r\\u00e9alisation dun poc, validation de larchitecture pilotage des op\\u00e9rations de migrations par loutil emc ndm r\\u00e9daction des livrables maintien en condition op\\u00e9rationnel des infrastructures de stockage historiques reporting \\u00e0 la direction de projet administration technique de fensemble des infrastructures de sauvegarde. audit complet de linfrastructure optimisation compl\\u00e8te de linfrastructure \\u00e9tude de march\\u00e9 des nouvelles infrastructures de sauvegarde pr\\u00e9conisation des \\u00e9volutions mat\\u00e9rielles mise en place des proc\\u00e9dures de gestion et dadministration optimisation de proc\\u00e9dures existantes gestion des incidents critiques installation; optimisation; et mises \\u00e0 jour des modules tdp for ve (vmware) et exchange restauration de bases donn\\u00e9es oracle 0 british telecom (bt) services france 03/2013 10/2013 bt expert san stockage sauvegarde au sein de l\\u00e9quipe experts san stockage sauvegarde de bt france; prise en charge des probl\\u00e9matiques san, stockage et sauvegarde pour bt et ses clients: pilotage de projet, r\\u00e9novation des infrastructures de sauvegardes networker scalar i6000 pr\\u00e9paration; mise en production et suivit des changements techniques li\\u00e9s \\u00e0 des probl\\u00e9matiques san et nas netapp - emc clariion analyse de performances stockage avec r\\u00e9solution et plan daction associ\\u00e9 netapp emc clariion expertise et analyse des incidents li\\u00e9s aux probl\\u00e9matiques de sauvegarde emc networker symantec netbackup ibm tsm hp dataprotector atempo tina coordination du suivit des escalades fournisseurs r\\u00e9daction de dossiers dexploitation (dex) dossiers darchitecture (dat) rapports de faisabilit\\u00e9s techniques (rft) request for change (rfc) rapports de prise en charge (pec) cnam cti rh\\u00f4ne alpes auvergne (ctiraa) 01/2013 02/2013 cnam expert unix linux au sein de l\\u00e9quipe experts unix linux du ctiraa de la cnam, projet de d\\u00e9ploiement &une nouvelle solution dauthentification des serveurs unix linux. pilotage de projet; mise en \\u0153uvre de compte nominatif et authentification par cl\\u00e9 priv\\u00e9 cl\\u00e9 publique sur les serveurs aix linux mise en \\u0153uvre et d\\u00e9ploiement de la solution scripting shell r\\u00e9daction de dossiers dexploitation (dex) documentation utilisateurs cnam cti rh\\u00f4ne alpes auvergne (ctiraa) 01/2013 02/2013 cnam expert unix linux au sein de f\\u00e9quipe experts unix linux du ctiraa de la cnam, projet de d\\u00e9ploiement dune nouvelle solution dauthentification des serveurs unix linux. pilotage de projet; mise en \\u0153uvre de compte nominatif et authentification par cl\\u00e9 priv\\u00e9 / cl\\u00e9 publique sur les serveurs aix linux mise en \\u0153uvre et d\\u00e9ploiement de la solution scripting shell r\\u00e9daction de dossiers dexploitation (dex) documentation utilisateurs cr\\u00e9dit-agricole 07/2012 12/2012 @ ing\\u00e9nieur san stockage au sein des \\u00e9quipes du projet nice ca-technologies, en charge du p\\u00e9rim\\u00e8tre san _ stockage: administration technique des ressources de stockage sur 3 sites; 6 baies vmax-1, 26 directors san cisco mds-9500. pr\\u00e9paration, mise en production et suivit des changements techniques li\\u00e9s au stockage. mise en \\u0153uvre des rex (retours dexp\\u00e9riences) r\\u00e9daction ou mise \\u00e0 niveau des documents dexploitation. prise groupe zasino casino 02/2010 06/2012 nourrir un monde de diversite expert sauvegarde au sein des \\u00e9quipes production casino, en charge du p\\u00e9rim\\u00e8tre sauvegarde: gestion des infrastructures de sauvegarde (serveurs, librairies; baies, outils et r\\u00e9seaux de sauvegarde) conception et mise en \\u0153uvre des \\u00e9volutions de linfrastructure de sauvegarde. r\\u00e9alisation des \\u00e9volutions sur la politique et les architectures de sauvegarde. expertise technique aupr\\u00e8s des \\u00e9quipes projet. r\\u00e9daction de dossiers darchitecture. appui technique aux projets applicatifs strat\\u00e9giques . r\\u00e9daction de proc\\u00e9dures techniques. r\\u00e9alisation des tableaux de bord sur lutilisation de la solution de sauvegarde et ses performances_ industrialisation des processus r\\u00e9alisation d\\u00e9tudes de faisabilit\\u00e9 (veille technologique, suivit des nouvelles versions et corrections du logiciel de sauvegarde et r\\u00e9alisation des mises \\u00e0 jour. r\\u00e9alisation du support de niveau 3 (r\\u00e9solution dincidents; r\\u00e9solution de probl\\u00e8mes; pr\\u00e9conisation dam\\u00e9liorations) pr\\u00e9paration; mise en production et suivit des changements techniques li\\u00e9s au stockage. sncf 11/2008 01/2010 sncf ing\\u00e9nieur san stockage au sein des \\u00e9quipes centrales sncf dadministration; prise en charge du p\\u00e9rim\\u00e8tre san & stockage >_ administration technique des ressources de stockage sur 3 sites, 3 baies hp eva; 6 baies emc, 60 switchs brocade. pr\\u00e9paration; mise en production et suivit des changements techniques et applicatifs li\\u00e9s au stockage d\\u00e9di\\u00e9. analyse des performances et incidents avec r\\u00e9solution et plan daction associ\\u00e9. coordination du suivit des incidents mat\\u00e9riels pris en compte par la maintenance. d\\u00e9ploiement doutils dadministration et de suivi du p\\u00e9rim\\u00e8tre stockage. mise en \\u0153uvre des rex (retours dexp\\u00e9riences) r\\u00e9daction ou mise \\u00e0 niveau des documents dexploitation. prise mr. beno\\u00eet jaffres +33 (0) 6 87 06 16 67 benoit jaffres@gmail com erdf erdf 01/2007 10/2008 elctiiciteaese  okthibuton franc: ing\\u00e9nieur syst\\u00e8me unix dans le cadre dun projet dinfog\\u00e9rance: administration de 170 serveurs sous solaris 8,10 et aix supportant notamment oracle et weblogic. gestion des plateformes de production; pr\\u00e9-production et qualification. gestion des mises en production des \\u00e9volutions applicatives et techniques support niveau 2 et 3 le traitement des incidents majeurs dans le cadre dune approche de type gestion de probl\\u00e8mes support niveau 3 sur solaris 8 et 10 pour l\\u00e9quipe dinfog\\u00e9rance traitement des incidents sur la chaine de production sous controlm analyse des logs correction des d\\u00e9fauts relance \\u00e9ventuelle de la chaine installation de nouveaux environnements syst\\u00e8mes et applicatifs. configuration des volumes group via vxvm en environnement san hp installation et configuration dun cluster veritas prise en charge de loutillage de sauvegarde networker d\\u00e9finition des politiques de sauvegardeslrestitution r\\u00e9alisation de tests de pra techniques d\\u00e9veloppement de scripts danalyse du bon fonctionnement des sauvegardes sous networker la poste 05/2006 12/2006 la poste ing\\u00e9nieur syst\\u00e8me unix) dans le cadre dun projet de changement de plan &adressage ip sur plus de 2000 serveurs. analyse des contraintes syst\\u00e8mes et r\\u00e9seaux r\\u00e9alisation dun script dautomatisation pour les diff\\u00e9rents environnements changement dadressage ip pour les serveurs hp-ux 11i et solaris 8 installation et configuration de boitiers de d\\u00e9ports de consoles (raritan) pour ibm 11/2005 04/2006 igm ing\\u00e9nieur tsm au sein des \\u00e9quipes centrales ibm dadministration; prise en charge du p\\u00e9rim\\u00e8tre sauvegarde tsm support niveau 2 et niveau 3 sur linfrastructure tsm gestion des serveurs de sauvegarde en environnement aix 5.3 param\\u00e9trage de clients sous tsm pour unix et windows installation et configuration dagent de sauvegarde pour les environnements san installation de lagent de sauvegarde bases ouvertes (tdp) delphi mechatronic system 09/2002 09/2005 delpai administrateur unix dans le cadre de fadministration des infrastructures unix: installation de syst\\u00e8mes serveurs et clients sous aix 5.1 et hp-ux 11i installation de packages applicatifs exploitation des serveurs gestion des volumes logiques des serveurs d\\u00e9veloppement de script dautomatisation des t\\u00e2ches dadministration gestion des droits utilisateurs prise en charge de fexploitation du syst\\u00e8me de sauvegarde: installation de tsm 4.3 (serveur et client) sur aix 5.1 mise en place des politiques de sauvegarde avec les scheduler tsm mise en place dune proc\\u00e9dure darchivage avec une partition logique sauvegarde et restauration\",\n",
            "    \"competences\": \" comp\\u00e9tences techniques baies des stockages emc dmx vmax2 vmax3 pmax, clariion; celerra vipr vplex - datadomain, hp eva hpe 3par, dell compellent; netapp; hitachi hds vsp g1500 g5100, ibm ds8ooo v9ooo reseaux san brocade; cisco mds 9148s 9148t 9706 = 9710 logiciels des sauvegardes ibm tivoli storage manager; netbackup; emc legato networker avamar, hp data protector, tina, veeam, commvault sauvegardes sur bandes storagetekisunioracle sl8500 sl5oo = l7oo l80 t10ooo 9840 lto4, quantum scalar i2000 i60oo os sun solaris 8 = 9 10, ibm aix 4.3 - 5.1 - 5.3 - 5.4 - 6.1, linux redhat 4 - 5 - 6 - 7, hp hp-ux 10.00 11.00 11i, windows 2000 = 2003 server = 2008 = 2008 r2 = 2012 = 2016, windows xp = 7 = 8 - 10, centos, vmware 5.5 6.0, macos langages shell domaines dinterventions architecture \\u00e9tude du cahier des charges; \\u00e9tude de faisabilit\\u00e9, \\u00e9tude des sp\\u00e9cifications fonctionnels; validation des sp\\u00e9cifications fonctionnelles et techniques . conception dinfrastructures sanistockagelsauvegarde, cr\\u00e9ation des sc\\u00e9narios de test mise en place des poc, proposition de planning, cr\\u00e9ation de documents de planification de test et de validation, r\\u00e9daction du dat. r\\u00e9daction de cahier des charges, r\\u00e9daction de plan de migration; gestion de budget. gestion de planning et de plan de contribution des ressources. pilotage de prestataires gestion des livrables et des engagements expertise technique r\\u00e9solutions de probl\\u00e8mes complexes; audit des infrastructures sanistockagelsauvegarde; d\\u00e9ploiements multi sites_ connaissance des r\\u00e8gles de lart techniques, analyse et recommandations dam\\u00e9lioration; maitrise des m\\u00e9thodes, normes et outils standards de conception. \\u00e9laboration et d\\u00e9ploiement de m\\u00e9thodologies de r\\u00e9solution; proposition de solutions et sc\\u00e9narii dam\\u00e9lioration; analyse des documents techniques . travail en collaboration avec les ing\\u00e9nieurs techniques et autres experts; maitrise des m\\u00e9thodes itil etlou agiles; animation de workshop; synth\\u00e8se des m\\u00e9thodologies et connaissances \\u00e0 transmettre; \\u00e9changes en anglais en contexte professionnel. 3/8\",\n",
            "    \"autres\": \"\"\n",
            "}\n"
          ]
        }
      ]
    },
    {
      "cell_type": "code",
      "source": [
        ""
      ],
      "metadata": {
        "id": "Rc9l4O9MaGN1"
      },
      "execution_count": null,
      "outputs": []
    },
    {
      "cell_type": "code",
      "source": [
        "#dict\n",
        "\n",
        "\n",
        "import collections\n",
        " \n",
        "try:\n",
        "    from collections import OrderedDict\n",
        "except ImportError:\n",
        "    OrderedDict = dict\n",
        "\n",
        "import pandas as pd\n",
        "import pickle \n",
        "\n",
        "def dict_create(cv):\n",
        "  model = pickle.load(open('/content/svm_model_final_pickle.pkl','rb'))\n",
        "  cv_dict = OrderedDict({\n",
        "      \"nom_prenom\":\"\",\n",
        "      \"email\":\"\",\n",
        "      \"phone_number\":\"\",  \n",
        "      \"contact\": \"\",\n",
        "      \"profil\" : \"\",\n",
        "      \"langues\" : \"\",\n",
        "      \"formation\" : \"\",\n",
        "      \"projets\" : \"\",\n",
        "      \"experience\" : \"\",\n",
        "      \"competences\": \"\",\n",
        "      \"autres\": \"\"\n",
        "   })\n",
        "  predicted_label=\"\"\n",
        "  for i in cvfinal:\n",
        "     liste=[]\n",
        "     liste.append(i)\n",
        "     predicted_label = str(model.predict(pd.Series(liste))[0])\n",
        "     i=i.replace(\"'\",\"\")\n",
        "     cv_dict[predicted_label] += str.lower(i)\n",
        "  return(cv_dict)   \n"
      ],
      "metadata": {
        "id": "TKFKUu8Vf7R6"
      },
      "execution_count": null,
      "outputs": []
    },
    {
      "cell_type": "code",
      "source": [
        "#json\n",
        "\n",
        "import json \n",
        "def json_create(dic):\n",
        "  json_cv = json.dumps(dic, indent = 4) \n",
        "  return(json_cv)"
      ],
      "metadata": {
        "id": "nh4oUQ3mg_QQ"
      },
      "execution_count": null,
      "outputs": []
    },
    {
      "cell_type": "code",
      "source": [
        "print(json_create(dict_create(cvfinal)))"
      ],
      "metadata": {
        "colab": {
          "base_uri": "https://localhost:8080/"
        },
        "id": "J62u97fohAoO",
        "outputId": "e8783044-94de-4953-f6c6-52957469aab6"
      },
      "execution_count": null,
      "outputs": [
        {
          "output_type": "stream",
          "name": "stdout",
          "text": [
            "{\n",
            "    \"nom_prenom\": \"\",\n",
            "    \"email\": \"\",\n",
            "    \"phone_number\": \"\",\n",
            "    \"contact\": \" mr. beno\\u00eet jaffres +33 (0) 6 87 06 16 67 benoit jaffres@gmail com benoit jaffres expert san, stockage, sauvegarde mr. beno\\u00eet jaffres +33 (0) 6 87 06 16 67 benoit jaffres@qmail com mr. beno\\u00eet jaffres +33 (0) 6 87 06 16 67 benoit jaffres@gmail com eovi-mcd mutuelle 11/2013 07/2014 mr. beno\\u00eet jaffres +33 (0) 6 87 06 16 67 benoit jaffres@gmail com eovi-mcd mutuelle \\u20acevmcd expert tsm\",\n",
            "    \"profil\": \" sncf 05/2017 _ 11/2017 sncf expert stockage expertise technique au sein du projet roses (r\\u00e9organisation des offres de stockage) de la sncf. migration de 54 baies vers une seule technologie de stockage emc vmax3 all-flash. migration de donn\\u00e9es de stockage dans un contexte de forte h\\u00e9t\\u00e9rog\\u00e9n\\u00e9it\\u00e9 de stockages sources et dos. migration de san dans un contexte de forte h\\u00e9t\\u00e9rog\\u00e9n\\u00e9it\\u00e9 de r\\u00e9seaux sources r\\u00e9alisation des copies par duplication des donn\\u00e9es cot\\u00e9 serveur ou cot\\u00e9 baie. r\\u00e9alisation de pilotes de migration. korian 10/2015 04/2017 korian architecte stockage sauvegarde gestion des projets et consolidation des infrastructures de stockage; sauvegarde. audit complet des infrastructures sauvegarde et san stockage optimisation des infrastructures de stockage sauvegarde gestion des contrats de maintenance logicielle et mat\\u00e9rielle gestion compl\\u00e8te dun projet de sauvegarde de 400 sites distants r\\u00e9daction de rfi rfp s\\u00e9lection des soumissionnaires comparatif technique et financier des offres d\\u00e9ploiement de la solution\",\n",
            "    \"langues\": \" langues anglais courant\",\n",
            "    \"formation\": \" formations 2020 cisco mds 2018 aws fundamentals 2009 emc control center (emc-ccm) 2009 hp formation intensive aux technologies san (uc434s) 2007 formation veritas cluster for unix 2005 cisco ccna 2005 certification solaris 9 (cx-310-014) formations initiales 2004 2005 licence professionnelle ing\\u00e9nierie des r\\u00e9seaux informatique \\u00e0 luniversit\\u00e9 de nice sophia antipolis 2002 2004 bts informatique de gestion option administrateur de r\\u00e9seaux locaux \\u00e0 iifa (institut de formation par alternance) de la cci (chambre de commerce et de lindustrie) de strasbourg 2000 2001 daeu b (\\u00e9quivalent au bac s par les cours du soir) \\u00e0 /ulp (universit\\u00e9 louis pasteur) de strasbourg 1994 1996 b.ep. et c.ap. de couvreur zingueur au sein des compagnons du devoir de strasbourg et en apprentissage chez les couvreurs rh\\u00e9nans\",\n",
            "    \"projets\": \"\",\n",
            "    \"experience\": \" edf 07/2021 01/2021 edf architecte san cisco conception; qualification; installation et validation dune nouveau r\\u00e9seau san cisco. \\u00e9laboration; validation de la proc\\u00e9dure de migration: \\u00e9tude et validation des sp\\u00e9cifications techniques et fonctionnels elaboration du hld (high level design) cr\\u00e9ation et validation des sc\\u00e9narios de test \\u00e9laboration et validation de la strat\\u00e9gie de migration san r\\u00e9daction des livrables respect des engagements accompagnement des d\\u00e9veloppeurs api utui 06/2020 06/2021 directeur g\\u00e9n\\u00e9ral activit\\u00e9 e-commerce, marketing et vente en btoc. d\\u00e9finition de la politique commerciale dun portefeuille de produits \\u00e9laboration et mise en \\u0153uvre de la strat\\u00e9gie marketing \\u00e0 court et moyen termes arbitrage et allocation des moyens ressources analyse des r\\u00e9sultats et de la rentabilit\\u00e9 des produits ou de lentreprise par rapport aux objectifs contr\\u00f4le et synth\\u00e8se des r\\u00e9sultats des campagnes marketing et d\\u00e9termination de nouvelles orientations sourcing de produits et s\\u00e9lection de fournisseurs conception et r\\u00e9daction de textes et dargumentaires commerciaux veille concurrentielle commerciale et technologique \\u00e9laboration de strat\\u00e9gies e-commerce gestion des projets web en lien avec lidentit\\u00e9 visuelle et sa d\\u00e9clinaison en termes de charte graphique 5 oie enedis 01/2019 05/2020 en?dis enedis 01/2019 05/2020 lelectricite en reseau architecte infrastructure d\\u00e9finition des solutions de san/stockage et sauvegarde de la nouvelle infrastructure cloud de linky: analyse des besoins design des nouvelles solutions de sanistockage et sauvegarde r\\u00e9alisation de pocs, validation de larchitectures mise en \\u0153uvre des infrastructures travaux de design du ceph (software-defined storage) et des serveurs cisco ucs @ cr\\u00e9dit-agricole 12/2014 09/2015 ing\\u00e9nieur san stockage au sein des \\u00e9quipes stockage open\\\" ca-technologies; en charge du p\\u00e9rim\\u00e8tre san stockage. maintien en condition op\\u00e9rationnel des infrastructures de stockage 2 sites, 8 baies vmax-1 & 2, 26 directors san cisco mds-9500 support n2 des incidents et probl\\u00e8mes; relationslescalades aupr\\u00e8s des constructeurs (emc,cisco) suivis et contr\\u00f4les sur le respect des normes et standards r\\u00e9daction ou mise \\u00e0 niveau des documents dexploitation prise bpce it 12/2017 08/2018 bpce expert stockage expertise au sein de l\\u00e9quipe san du groupe bpce migration de toutes les baies san vers une seule technologie de stockage emc vmax3 all-flash. analyse des besoins design de la nouvelle solution de stockage r\\u00e9alisation dun poc, validation de larchitecture pilotage des op\\u00e9rations de migrations par loutil emc ndm r\\u00e9daction des livrables maintien en condition op\\u00e9rationnel des infrastructures de stockage historiques reporting \\u00e0 la direction de projet administration technique de fensemble des infrastructures de sauvegarde. audit complet de linfrastructure optimisation compl\\u00e8te de linfrastructure \\u00e9tude de march\\u00e9 des nouvelles infrastructures de sauvegarde pr\\u00e9conisation des \\u00e9volutions mat\\u00e9rielles mise en place des proc\\u00e9dures de gestion et dadministration optimisation de proc\\u00e9dures existantes gestion des incidents critiques installation; optimisation; et mises \\u00e0 jour des modules tdp for ve (vmware) et exchange restauration de bases donn\\u00e9es oracle 0 british telecom (bt) services france 03/2013 10/2013 bt expert san stockage sauvegarde au sein de l\\u00e9quipe experts san stockage sauvegarde de bt france; prise en charge des probl\\u00e9matiques san, stockage et sauvegarde pour bt et ses clients: pilotage de projet, r\\u00e9novation des infrastructures de sauvegardes networker scalar i6000 pr\\u00e9paration; mise en production et suivit des changements techniques li\\u00e9s \\u00e0 des probl\\u00e9matiques san et nas netapp - emc clariion analyse de performances stockage avec r\\u00e9solution et plan daction associ\\u00e9 netapp emc clariion expertise et analyse des incidents li\\u00e9s aux probl\\u00e9matiques de sauvegarde emc networker symantec netbackup ibm tsm hp dataprotector atempo tina coordination du suivit des escalades fournisseurs r\\u00e9daction de dossiers dexploitation (dex) dossiers darchitecture (dat) rapports de faisabilit\\u00e9s techniques (rft) request for change (rfc) rapports de prise en charge (pec) cnam cti rh\\u00f4ne alpes auvergne (ctiraa) 01/2013 02/2013 cnam expert unix linux au sein de l\\u00e9quipe experts unix linux du ctiraa de la cnam, projet de d\\u00e9ploiement &une nouvelle solution dauthentification des serveurs unix linux. pilotage de projet; mise en \\u0153uvre de compte nominatif et authentification par cl\\u00e9 priv\\u00e9 cl\\u00e9 publique sur les serveurs aix linux mise en \\u0153uvre et d\\u00e9ploiement de la solution scripting shell r\\u00e9daction de dossiers dexploitation (dex) documentation utilisateurs cnam cti rh\\u00f4ne alpes auvergne (ctiraa) 01/2013 02/2013 cnam expert unix linux au sein de f\\u00e9quipe experts unix linux du ctiraa de la cnam, projet de d\\u00e9ploiement dune nouvelle solution dauthentification des serveurs unix linux. pilotage de projet; mise en \\u0153uvre de compte nominatif et authentification par cl\\u00e9 priv\\u00e9 / cl\\u00e9 publique sur les serveurs aix linux mise en \\u0153uvre et d\\u00e9ploiement de la solution scripting shell r\\u00e9daction de dossiers dexploitation (dex) documentation utilisateurs cr\\u00e9dit-agricole 07/2012 12/2012 @ ing\\u00e9nieur san stockage au sein des \\u00e9quipes du projet nice ca-technologies, en charge du p\\u00e9rim\\u00e8tre san _ stockage: administration technique des ressources de stockage sur 3 sites; 6 baies vmax-1, 26 directors san cisco mds-9500. pr\\u00e9paration, mise en production et suivit des changements techniques li\\u00e9s au stockage. mise en \\u0153uvre des rex (retours dexp\\u00e9riences) r\\u00e9daction ou mise \\u00e0 niveau des documents dexploitation. prise groupe zasino casino 02/2010 06/2012 nourrir un monde de diversite expert sauvegarde au sein des \\u00e9quipes production casino, en charge du p\\u00e9rim\\u00e8tre sauvegarde: gestion des infrastructures de sauvegarde (serveurs, librairies; baies, outils et r\\u00e9seaux de sauvegarde) conception et mise en \\u0153uvre des \\u00e9volutions de linfrastructure de sauvegarde. r\\u00e9alisation des \\u00e9volutions sur la politique et les architectures de sauvegarde. expertise technique aupr\\u00e8s des \\u00e9quipes projet. r\\u00e9daction de dossiers darchitecture. appui technique aux projets applicatifs strat\\u00e9giques . r\\u00e9daction de proc\\u00e9dures techniques. r\\u00e9alisation des tableaux de bord sur lutilisation de la solution de sauvegarde et ses performances_ industrialisation des processus r\\u00e9alisation d\\u00e9tudes de faisabilit\\u00e9 (veille technologique, suivit des nouvelles versions et corrections du logiciel de sauvegarde et r\\u00e9alisation des mises \\u00e0 jour. r\\u00e9alisation du support de niveau 3 (r\\u00e9solution dincidents; r\\u00e9solution de probl\\u00e8mes; pr\\u00e9conisation dam\\u00e9liorations) pr\\u00e9paration; mise en production et suivit des changements techniques li\\u00e9s au stockage. sncf 11/2008 01/2010 sncf ing\\u00e9nieur san stockage au sein des \\u00e9quipes centrales sncf dadministration; prise en charge du p\\u00e9rim\\u00e8tre san & stockage >_ administration technique des ressources de stockage sur 3 sites, 3 baies hp eva; 6 baies emc, 60 switchs brocade. pr\\u00e9paration; mise en production et suivit des changements techniques et applicatifs li\\u00e9s au stockage d\\u00e9di\\u00e9. analyse des performances et incidents avec r\\u00e9solution et plan daction associ\\u00e9. coordination du suivit des incidents mat\\u00e9riels pris en compte par la maintenance. d\\u00e9ploiement doutils dadministration et de suivi du p\\u00e9rim\\u00e8tre stockage. mise en \\u0153uvre des rex (retours dexp\\u00e9riences) r\\u00e9daction ou mise \\u00e0 niveau des documents dexploitation. prise mr. beno\\u00eet jaffres +33 (0) 6 87 06 16 67 benoit jaffres@gmail com erdf erdf 01/2007 10/2008 elctiiciteaese  okthibuton franc: ing\\u00e9nieur syst\\u00e8me unix dans le cadre dun projet dinfog\\u00e9rance: administration de 170 serveurs sous solaris 8,10 et aix supportant notamment oracle et weblogic. gestion des plateformes de production; pr\\u00e9-production et qualification. gestion des mises en production des \\u00e9volutions applicatives et techniques support niveau 2 et 3 le traitement des incidents majeurs dans le cadre dune approche de type gestion de probl\\u00e8mes support niveau 3 sur solaris 8 et 10 pour l\\u00e9quipe dinfog\\u00e9rance traitement des incidents sur la chaine de production sous controlm analyse des logs correction des d\\u00e9fauts relance \\u00e9ventuelle de la chaine installation de nouveaux environnements syst\\u00e8mes et applicatifs. configuration des volumes group via vxvm en environnement san hp installation et configuration dun cluster veritas prise en charge de loutillage de sauvegarde networker d\\u00e9finition des politiques de sauvegardeslrestitution r\\u00e9alisation de tests de pra techniques d\\u00e9veloppement de scripts danalyse du bon fonctionnement des sauvegardes sous networker la poste 05/2006 12/2006 la poste ing\\u00e9nieur syst\\u00e8me unix) dans le cadre dun projet de changement de plan &adressage ip sur plus de 2000 serveurs. analyse des contraintes syst\\u00e8mes et r\\u00e9seaux r\\u00e9alisation dun script dautomatisation pour les diff\\u00e9rents environnements changement dadressage ip pour les serveurs hp-ux 11i et solaris 8 installation et configuration de boitiers de d\\u00e9ports de consoles (raritan) pour ibm 11/2005 04/2006 igm ing\\u00e9nieur tsm au sein des \\u00e9quipes centrales ibm dadministration; prise en charge du p\\u00e9rim\\u00e8tre sauvegarde tsm support niveau 2 et niveau 3 sur linfrastructure tsm gestion des serveurs de sauvegarde en environnement aix 5.3 param\\u00e9trage de clients sous tsm pour unix et windows installation et configuration dagent de sauvegarde pour les environnements san installation de lagent de sauvegarde bases ouvertes (tdp) delphi mechatronic system 09/2002 09/2005 delpai administrateur unix dans le cadre de fadministration des infrastructures unix: installation de syst\\u00e8mes serveurs et clients sous aix 5.1 et hp-ux 11i installation de packages applicatifs exploitation des serveurs gestion des volumes logiques des serveurs d\\u00e9veloppement de script dautomatisation des t\\u00e2ches dadministration gestion des droits utilisateurs prise en charge de fexploitation du syst\\u00e8me de sauvegarde: installation de tsm 4.3 (serveur et client) sur aix 5.1 mise en place des politiques de sauvegarde avec les scheduler tsm mise en place dune proc\\u00e9dure darchivage avec une partition logique sauvegarde et restauration\",\n",
            "    \"competences\": \" comp\\u00e9tences techniques baies des stockages emc dmx vmax2 vmax3 pmax, clariion; celerra vipr vplex - datadomain, hp eva hpe 3par, dell compellent; netapp; hitachi hds vsp g1500 g5100, ibm ds8ooo v9ooo reseaux san brocade; cisco mds 9148s 9148t 9706 = 9710 logiciels des sauvegardes ibm tivoli storage manager; netbackup; emc legato networker avamar, hp data protector, tina, veeam, commvault sauvegardes sur bandes storagetekisunioracle sl8500 sl5oo = l7oo l80 t10ooo 9840 lto4, quantum scalar i2000 i60oo os sun solaris 8 = 9 10, ibm aix 4.3 - 5.1 - 5.3 - 5.4 - 6.1, linux redhat 4 - 5 - 6 - 7, hp hp-ux 10.00 11.00 11i, windows 2000 = 2003 server = 2008 = 2008 r2 = 2012 = 2016, windows xp = 7 = 8 - 10, centos, vmware 5.5 6.0, macos langages shell domaines dinterventions architecture \\u00e9tude du cahier des charges; \\u00e9tude de faisabilit\\u00e9, \\u00e9tude des sp\\u00e9cifications fonctionnels; validation des sp\\u00e9cifications fonctionnelles et techniques . conception dinfrastructures sanistockagelsauvegarde, cr\\u00e9ation des sc\\u00e9narios de test mise en place des poc, proposition de planning, cr\\u00e9ation de documents de planification de test et de validation, r\\u00e9daction du dat. r\\u00e9daction de cahier des charges, r\\u00e9daction de plan de migration; gestion de budget. gestion de planning et de plan de contribution des ressources. pilotage de prestataires gestion des livrables et des engagements expertise technique r\\u00e9solutions de probl\\u00e8mes complexes; audit des infrastructures sanistockagelsauvegarde; d\\u00e9ploiements multi sites_ connaissance des r\\u00e8gles de lart techniques, analyse et recommandations dam\\u00e9lioration; maitrise des m\\u00e9thodes, normes et outils standards de conception. \\u00e9laboration et d\\u00e9ploiement de m\\u00e9thodologies de r\\u00e9solution; proposition de solutions et sc\\u00e9narii dam\\u00e9lioration; analyse des documents techniques . travail en collaboration avec les ing\\u00e9nieurs techniques et autres experts; maitrise des m\\u00e9thodes itil etlou agiles; animation de workshop; synth\\u00e8se des m\\u00e9thodologies et connaissances \\u00e0 transmettre; \\u00e9changes en anglais en contexte professionnel. 3/8\",\n",
            "    \"autres\": \"\"\n",
            "}\n"
          ]
        }
      ]
    },
    {
      "cell_type": "markdown",
      "source": [
        ""
      ],
      "metadata": {
        "id": "x1SzWPzOg_H1"
      }
    }
  ],
  "metadata": {
    "colab": {
      "name": "Copy of clean-version.ipynb",
      "provenance": [],
      "collapsed_sections": []
    },
    "kernelspec": {
      "display_name": "Python 3",
      "name": "python3"
    },
    "language_info": {
      "name": "python"
    },
    "accelerator": "GPU"
  },
  "nbformat": 4,
  "nbformat_minor": 0
}